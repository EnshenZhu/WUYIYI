{
 "cells": [
  {
   "cell_type": "markdown",
   "source": [
    "# Question 2"
   ],
   "metadata": {
    "collapsed": false
   },
   "id": "7b95f676413e8fb0"
  },
  {
   "cell_type": "code",
   "outputs": [],
   "source": [
    "import torch\n",
    "import torch.nn as nn\n",
    "import numpy as np\n",
    "import pandas as pd\n",
    "from sklearn.preprocessing import MinMaxScaler\n",
    "from sklearn.model_selection import train_test_split"
   ],
   "metadata": {
    "collapsed": false,
    "ExecuteTime": {
     "end_time": "2024-03-17T22:00:31.657565Z",
     "start_time": "2024-03-17T22:00:29.463290Z"
    }
   },
   "id": "74aeb79d1dcbf0e8",
   "execution_count": 1
  },
  {
   "cell_type": "code",
   "outputs": [
    {
     "data": {
      "text/plain": "     Month  Consumptions\n0   16-Nov    15829899.5\n1   16-Dec    17682496.4\n2   17-Jan    17248195.1\n3   17-Feb    15385845.5\n4   17-Mar    17165011.8\n..     ...           ...\n81  23-Aug    18920804.9\n82  23-Sep    17898675.1\n83  23-Oct    19115237.6\n84  23-Nov    19136435.2\n85  23-Dec    20149558.6\n\n[86 rows x 2 columns]",
      "text/html": "<div>\n<style scoped>\n    .dataframe tbody tr th:only-of-type {\n        vertical-align: middle;\n    }\n\n    .dataframe tbody tr th {\n        vertical-align: top;\n    }\n\n    .dataframe thead th {\n        text-align: right;\n    }\n</style>\n<table border=\"1\" class=\"dataframe\">\n  <thead>\n    <tr style=\"text-align: right;\">\n      <th></th>\n      <th>Month</th>\n      <th>Consumptions</th>\n    </tr>\n  </thead>\n  <tbody>\n    <tr>\n      <th>0</th>\n      <td>16-Nov</td>\n      <td>15829899.5</td>\n    </tr>\n    <tr>\n      <th>1</th>\n      <td>16-Dec</td>\n      <td>17682496.4</td>\n    </tr>\n    <tr>\n      <th>2</th>\n      <td>17-Jan</td>\n      <td>17248195.1</td>\n    </tr>\n    <tr>\n      <th>3</th>\n      <td>17-Feb</td>\n      <td>15385845.5</td>\n    </tr>\n    <tr>\n      <th>4</th>\n      <td>17-Mar</td>\n      <td>17165011.8</td>\n    </tr>\n    <tr>\n      <th>...</th>\n      <td>...</td>\n      <td>...</td>\n    </tr>\n    <tr>\n      <th>81</th>\n      <td>23-Aug</td>\n      <td>18920804.9</td>\n    </tr>\n    <tr>\n      <th>82</th>\n      <td>23-Sep</td>\n      <td>17898675.1</td>\n    </tr>\n    <tr>\n      <th>83</th>\n      <td>23-Oct</td>\n      <td>19115237.6</td>\n    </tr>\n    <tr>\n      <th>84</th>\n      <td>23-Nov</td>\n      <td>19136435.2</td>\n    </tr>\n    <tr>\n      <th>85</th>\n      <td>23-Dec</td>\n      <td>20149558.6</td>\n    </tr>\n  </tbody>\n</table>\n<p>86 rows × 2 columns</p>\n</div>"
     },
     "execution_count": 2,
     "metadata": {},
     "output_type": "execute_result"
    }
   ],
   "source": [
    "# data loading\n",
    "df = pd.read_csv(r\"canada_natural_gas_consumption.csv\")\n",
    "df"
   ],
   "metadata": {
    "collapsed": false,
    "ExecuteTime": {
     "end_time": "2024-03-17T22:00:31.672938Z",
     "start_time": "2024-03-17T22:00:31.658574Z"
    }
   },
   "id": "c80bff15d9c13301",
   "execution_count": 2
  },
  {
   "cell_type": "markdown",
   "source": [
    "## 1. Data Gathering\n",
    "This work collects the Canadian national monthly natural gas consumption from November 2016 to December 2023. The data is downloaded from the Statistic Canada webpage.\n",
    "*Statistics Canada. Table 25-10-0055-01 Supply and disposition of natural gas, monthly (data in thousands) (x 1,000)*"
   ],
   "metadata": {
    "collapsed": false
   },
   "id": "1b58ac0b749aae6"
  },
  {
   "cell_type": "markdown",
   "source": [
    "## 2. Data preprocessing\n",
    "### Task 1: Remove invalid data points"
   ],
   "metadata": {
    "collapsed": false
   },
   "id": "b23d04fdb376430f"
  },
  {
   "cell_type": "code",
   "outputs": [
    {
     "name": "stdout",
     "output_type": "stream",
     "text": [
      "(86, 2)\n"
     ]
    }
   ],
   "source": [
    "# remove data point with invalid value (equal to zero or has no value)\n",
    "df = df[(df[\"Consumptions\"] != 0) & (df[\"Consumptions\"] != \"\")]\n",
    "print(df.shape)"
   ],
   "metadata": {
    "collapsed": false,
    "ExecuteTime": {
     "end_time": "2024-03-17T22:00:31.680060Z",
     "start_time": "2024-03-17T22:00:31.673972Z"
    }
   },
   "id": "54f8c395f9c13f3b",
   "execution_count": 3
  },
  {
   "cell_type": "markdown",
   "source": [
    "### Task 2: Data Normalization"
   ],
   "metadata": {
    "collapsed": false
   },
   "id": "5b64aa231e1d1886"
  },
  {
   "cell_type": "code",
   "outputs": [],
   "source": [
    "# gas consumption data normalization\n",
    "scaler = MinMaxScaler(feature_range=(-1, 1))\n",
    "original_max = np.max(df['Consumptions'])\n",
    "original_min = np.min(df['Consumptions'])\n",
    "df['Consumptions'] = scaler.fit_transform(df['Consumptions'].values.reshape(-1, 1))"
   ],
   "metadata": {
    "collapsed": false,
    "ExecuteTime": {
     "end_time": "2024-03-17T22:00:31.685985Z",
     "start_time": "2024-03-17T22:00:31.681066Z"
    }
   },
   "id": "cbd60559d20aa80e",
   "execution_count": 4
  },
  {
   "cell_type": "code",
   "outputs": [
    {
     "name": "stdout",
     "output_type": "stream",
     "text": [
      "1.0\n",
      "-1.0\n"
     ]
    }
   ],
   "source": [
    "# verify the data range\n",
    "print(np.max(df['Consumptions']))\n",
    "print(np.min(df['Consumptions']))"
   ],
   "metadata": {
    "collapsed": false,
    "ExecuteTime": {
     "end_time": "2024-03-17T22:00:31.691234Z",
     "start_time": "2024-03-17T22:00:31.687995Z"
    }
   },
   "id": "2f4751fd495fe501",
   "execution_count": 5
  },
  {
   "cell_type": "markdown",
   "source": [
    "### Task 3: Convert Year-Month to numeric value and build the sequence"
   ],
   "metadata": {
    "collapsed": false
   },
   "id": "fe5f46b157243889"
  },
  {
   "cell_type": "code",
   "outputs": [
    {
     "data": {
      "text/plain": "    Month  Consumptions\n0   24203     -0.723326\n1   24204      0.015767\n2   24205     -0.157498\n3   24206     -0.900481\n4   24207     -0.190683\n..    ...           ...\n81  24284      0.509789\n82  24285      0.102011\n83  24286      0.587358\n84  24287      0.595815\n85  24288      1.000000\n\n[86 rows x 2 columns]",
      "text/html": "<div>\n<style scoped>\n    .dataframe tbody tr th:only-of-type {\n        vertical-align: middle;\n    }\n\n    .dataframe tbody tr th {\n        vertical-align: top;\n    }\n\n    .dataframe thead th {\n        text-align: right;\n    }\n</style>\n<table border=\"1\" class=\"dataframe\">\n  <thead>\n    <tr style=\"text-align: right;\">\n      <th></th>\n      <th>Month</th>\n      <th>Consumptions</th>\n    </tr>\n  </thead>\n  <tbody>\n    <tr>\n      <th>0</th>\n      <td>24203</td>\n      <td>-0.723326</td>\n    </tr>\n    <tr>\n      <th>1</th>\n      <td>24204</td>\n      <td>0.015767</td>\n    </tr>\n    <tr>\n      <th>2</th>\n      <td>24205</td>\n      <td>-0.157498</td>\n    </tr>\n    <tr>\n      <th>3</th>\n      <td>24206</td>\n      <td>-0.900481</td>\n    </tr>\n    <tr>\n      <th>4</th>\n      <td>24207</td>\n      <td>-0.190683</td>\n    </tr>\n    <tr>\n      <th>...</th>\n      <td>...</td>\n      <td>...</td>\n    </tr>\n    <tr>\n      <th>81</th>\n      <td>24284</td>\n      <td>0.509789</td>\n    </tr>\n    <tr>\n      <th>82</th>\n      <td>24285</td>\n      <td>0.102011</td>\n    </tr>\n    <tr>\n      <th>83</th>\n      <td>24286</td>\n      <td>0.587358</td>\n    </tr>\n    <tr>\n      <th>84</th>\n      <td>24287</td>\n      <td>0.595815</td>\n    </tr>\n    <tr>\n      <th>85</th>\n      <td>24288</td>\n      <td>1.000000</td>\n    </tr>\n  </tbody>\n</table>\n<p>86 rows × 2 columns</p>\n</div>"
     },
     "execution_count": 6,
     "metadata": {},
     "output_type": "execute_result"
    }
   ],
   "source": [
    "# Convert year-month string to numerical values\n",
    "from datetime import datetime\n",
    "\n",
    "\n",
    "def year_month_to_numeric(year_month):\n",
    "    date_obj = datetime.strptime(year_month, '%y-%b')\n",
    "    numeric_representation = date_obj.year * 12 + date_obj.month\n",
    "    return numeric_representation\n",
    "\n",
    "\n",
    "df['Month'] = df['Month'].apply(year_month_to_numeric)\n",
    "\n",
    "df"
   ],
   "metadata": {
    "collapsed": false,
    "ExecuteTime": {
     "end_time": "2024-03-17T22:00:31.700853Z",
     "start_time": "2024-03-17T22:00:31.692239Z"
    }
   },
   "id": "479bf5b3290b4b59",
   "execution_count": 6
  },
  {
   "cell_type": "code",
   "outputs": [],
   "source": [
    "# Convert to a numpy array\n",
    "dataset = df[['Month', 'Consumptions']].to_numpy()\n",
    "\n",
    "# Define sequence length (number of time steps to look back) --> recall a year has 12 months\n",
    "seq_length = 3\n",
    "\n",
    "\n",
    "# Create sequences\n",
    "def create_sequences(data, seq_length):\n",
    "    sequences = []\n",
    "    for i in range(len(data) - seq_length):\n",
    "        seq = data[i:i + seq_length]\n",
    "        sequences.append(seq)\n",
    "    return np.array(sequences)\n",
    "\n",
    "\n",
    "# Create input sequences and labels\n",
    "sequences = create_sequences(dataset, seq_length)\n",
    "X = sequences[:, :-1]\n",
    "y = sequences[:, -1][:, -1]"
   ],
   "metadata": {
    "collapsed": false,
    "ExecuteTime": {
     "end_time": "2024-03-17T22:00:31.707193Z",
     "start_time": "2024-03-17T22:00:31.701863Z"
    }
   },
   "id": "ebd6a9ebdc79eb53",
   "execution_count": 7
  },
  {
   "cell_type": "markdown",
   "source": [
    "### Task 4: Train, test, validation dataset splitting\n",
    "In such a case, we are going to split the dataset into (0.7,0.15,0.15) in respect to the (X_train, X_val, X_test) "
   ],
   "metadata": {
    "collapsed": false
   },
   "id": "b72d75b3eb52a077"
  },
  {
   "cell_type": "code",
   "outputs": [],
   "source": [
    "# Splitting the data into training and temporary set (70% train, 30% temp)\n",
    "X_train, X_val_test, y_train, y_val_test = train_test_split(X, y, test_size=0.8, shuffle=False, random_state=40)\n",
    "\n",
    "# Splitting the temporary set into validation and test sets (50% temp, 50% test)\n",
    "X_val, X_test, y_val, y_test = train_test_split(X_val_test, y_val_test, test_size=0.5, shuffle=False,\n",
    "                                                random_state=40)  # recall X_test and X_val should have the same size"
   ],
   "metadata": {
    "collapsed": false,
    "ExecuteTime": {
     "end_time": "2024-03-17T22:00:31.713748Z",
     "start_time": "2024-03-17T22:00:31.708203Z"
    }
   },
   "id": "b2607785789821de",
   "execution_count": 8
  },
  {
   "cell_type": "code",
   "outputs": [
    {
     "name": "stdout",
     "output_type": "stream",
     "text": [
      "(16, 2, 2)\n",
      "(33, 2, 2)\n",
      "(34, 2, 2)\n"
     ]
    }
   ],
   "source": [
    "# check on the X data\n",
    "print(X_train.shape)\n",
    "print(X_val.shape)\n",
    "print(X_test.shape)"
   ],
   "metadata": {
    "collapsed": false,
    "ExecuteTime": {
     "end_time": "2024-03-17T22:00:31.718777Z",
     "start_time": "2024-03-17T22:00:31.714757Z"
    }
   },
   "id": "9cd40a58a7ff1f29",
   "execution_count": 9
  },
  {
   "cell_type": "code",
   "outputs": [
    {
     "name": "stdout",
     "output_type": "stream",
     "text": [
      "(16,)\n",
      "(33,)\n",
      "(34,)\n"
     ]
    }
   ],
   "source": [
    "# check on the y label\n",
    "print(y_train.shape)\n",
    "print(y_val.shape)\n",
    "print(y_test.shape)"
   ],
   "metadata": {
    "collapsed": false,
    "ExecuteTime": {
     "end_time": "2024-03-17T22:00:31.723881Z",
     "start_time": "2024-03-17T22:00:31.719788Z"
    }
   },
   "id": "202480bbee21569f",
   "execution_count": 10
  },
  {
   "cell_type": "markdown",
   "source": [
    "## RNN Implementation"
   ],
   "metadata": {
    "collapsed": false
   },
   "id": "1305c08bba2daf32"
  },
  {
   "cell_type": "code",
   "outputs": [],
   "source": [
    "# Convert to PyTorch tensors\n",
    "X_train = torch.tensor(X_train).float()\n",
    "X_val = torch.tensor(X_val).float()\n",
    "X_test = torch.tensor(X_test).float()\n",
    "y_train = torch.tensor(y_train).float().reshape(len(X_train), 1)\n",
    "y_val = torch.tensor(y_val).float().reshape(len(X_val), 1)\n",
    "y_test = torch.tensor(y_test).float().reshape(len(X_test), 1)"
   ],
   "metadata": {
    "collapsed": false,
    "ExecuteTime": {
     "end_time": "2024-03-17T22:00:31.729513Z",
     "start_time": "2024-03-17T22:00:31.724890Z"
    }
   },
   "id": "f623e7fc7ad97de9",
   "execution_count": 11
  },
  {
   "cell_type": "code",
   "outputs": [],
   "source": [
    "# Config the device\n",
    "device = torch.device('cuda' if torch.cuda.is_available() else 'cpu')"
   ],
   "metadata": {
    "collapsed": false,
    "ExecuteTime": {
     "end_time": "2024-03-17T22:00:31.733990Z",
     "start_time": "2024-03-17T22:00:31.730518Z"
    }
   },
   "id": "7fa5740e3774d0a9",
   "execution_count": 12
  },
  {
   "cell_type": "code",
   "outputs": [],
   "source": [
    "# Define the RNN model\n",
    "class RNN(nn.Module):\n",
    "    def __init__(self, input_size, hidden_size, num_layers, output_size):\n",
    "        super(RNN, self).__init__()\n",
    "        self.hidden_size = hidden_size\n",
    "        self.num_layers = num_layers\n",
    "        self.rnn = nn.RNN(input_size, hidden_size, num_layers, batch_first=True)\n",
    "        self.fc = nn.Linear(hidden_size, output_size)\n",
    "\n",
    "    def forward(self, x):\n",
    "        h0 = torch.zeros(self.num_layers, x.size(0), self.hidden_size).to(device)\n",
    "        out, _ = self.rnn(x, h0)\n",
    "        out = self.fc(out[:, -1, :])\n",
    "        return out"
   ],
   "metadata": {
    "collapsed": false,
    "ExecuteTime": {
     "end_time": "2024-03-17T22:00:31.740133Z",
     "start_time": "2024-03-17T22:00:31.734997Z"
    }
   },
   "id": "94b3def0de976545",
   "execution_count": 13
  },
  {
   "cell_type": "code",
   "outputs": [],
   "source": [
    "# Define static hyperparameters\n",
    "input_size = 2  # Month and Natural Gas Consumption\n",
    "hidden_size = 3\n",
    "num_layers = 5\n",
    "output_size = 1\n",
    "learning_rate = 0.001\n",
    "num_epochs = 1000\n",
    "\n",
    "# Define non-static hyperparameters for validation dataset to tune\n",
    "\n",
    "# Instantiate the model\n",
    "model = RNN(input_size, hidden_size, num_layers, output_size).to(device)\n",
    "\n",
    "# Loss and optimizer\n",
    "criterion = nn.MSELoss()\n",
    "optimizer = torch.optim.Adam(model.parameters(), lr=learning_rate)"
   ],
   "metadata": {
    "collapsed": false,
    "ExecuteTime": {
     "end_time": "2024-03-17T22:00:32.560046Z",
     "start_time": "2024-03-17T22:00:31.742138Z"
    }
   },
   "id": "51213918013644f4",
   "execution_count": 14
  },
  {
   "cell_type": "code",
   "outputs": [
    {
     "name": "stdout",
     "output_type": "stream",
     "text": [
      "Epoch [100/1000], Loss: 0.1205\n",
      "Epoch [200/1000], Loss: 0.1205\n",
      "Epoch [300/1000], Loss: 0.1205\n",
      "Epoch [400/1000], Loss: 0.1205\n",
      "Epoch [500/1000], Loss: 0.1205\n",
      "Epoch [600/1000], Loss: 0.1205\n",
      "Epoch [700/1000], Loss: 0.1205\n",
      "Epoch [800/1000], Loss: 0.1205\n",
      "Epoch [900/1000], Loss: 0.1205\n",
      "Epoch [1000/1000], Loss: 0.1205\n"
     ]
    }
   ],
   "source": [
    "# Train the model\n",
    "for epoch in range(num_epochs):\n",
    "    model.train()\n",
    "    outputs = model(X_train.to(device))\n",
    "    optimizer.zero_grad()\n",
    "    loss = criterion(outputs, y_train.to(device))\n",
    "    loss.backward()\n",
    "    optimizer.step()\n",
    "\n",
    "    if (epoch + 1) % 100 == 0:\n",
    "        print(f'Epoch [{epoch + 1}/{num_epochs}], Loss: {loss.item():.4f}')"
   ],
   "metadata": {
    "collapsed": false,
    "ExecuteTime": {
     "end_time": "2024-03-17T22:00:35.290182Z",
     "start_time": "2024-03-17T22:00:32.561112Z"
    }
   },
   "id": "80d952a7ec51569f",
   "execution_count": 15
  },
  {
   "cell_type": "code",
   "outputs": [
    {
     "name": "stdout",
     "output_type": "stream",
     "text": [
      "Test Loss: 0.3586\n"
     ]
    }
   ],
   "source": [
    "# Test the model\n",
    "model.eval()\n",
    "with torch.no_grad():\n",
    "    y_pred = model(X_test.to(device))\n",
    "    test_loss = criterion(y_pred, y_test.to(device))\n",
    "    print(f'Test Loss: {test_loss.item():.4f}')\n",
    "\n",
    "# Convert predictions back to the original scale\n",
    "y_pred = scaler.inverse_transform(y_pred.cpu().numpy())"
   ],
   "metadata": {
    "collapsed": false,
    "ExecuteTime": {
     "end_time": "2024-03-17T22:00:35.297795Z",
     "start_time": "2024-03-17T22:00:35.291187Z"
    }
   },
   "id": "1e34e4d81ae735f9",
   "execution_count": 16
  },
  {
   "cell_type": "code",
   "outputs": [],
   "source": [
    "# rescale the y_test into its scale in the original dataset\n",
    "\n",
    "def rescale_series(values, new_min=original_min, new_max=original_max):\n",
    "    old_min = min(values)\n",
    "    old_max = max(values)\n",
    "    rescaled_values = []\n",
    "    for value in values:\n",
    "        rescaled_value = (value - old_min) * (new_max - new_min) / (old_max - old_min) + new_min\n",
    "        rescaled_values.append(rescaled_value)\n",
    "    return np.array(rescaled_values)\n",
    "\n",
    "\n",
    "y_test = y_test.cpu().numpy()\n",
    "y_test = rescale_series(y_test)"
   ],
   "metadata": {
    "collapsed": false,
    "ExecuteTime": {
     "end_time": "2024-03-17T22:00:35.302949Z",
     "start_time": "2024-03-17T22:00:35.298802Z"
    }
   },
   "id": "8a962f05ff69a8c3",
   "execution_count": 17
  },
  {
   "cell_type": "code",
   "outputs": [
    {
     "data": {
      "text/plain": "<Figure size 640x480 with 1 Axes>",
      "image/png": "[encoded data removed]"
     },
     "metadata": {},
     "output_type": "display_data"
    }
   ],
   "source": [
    "# Visualize the predictions\n",
    "import matplotlib.pyplot as plt\n",
    "\n",
    "plt.plot(y_test, label='Actual')\n",
    "plt.plot(y_pred, label='Predicted')\n",
    "plt.xlabel('Month')\n",
    "plt.ylabel('Natural Gas Consumption')\n",
    "plt.title('Natural Gas Consumption Prediction')\n",
    "plt.legend()\n",
    "plt.show()"
   ],
   "metadata": {
    "collapsed": false,
    "ExecuteTime": {
     "end_time": "2024-03-17T22:00:35.728845Z",
     "start_time": "2024-03-17T22:00:35.303954Z"
    }
   },
   "id": "7af3bee4c2071249",
   "execution_count": 18
  },
  {
   "cell_type": "code",
   "outputs": [],
   "source": [],
   "metadata": {
    "collapsed": false,
    "ExecuteTime": {
     "end_time": "2024-03-17T22:00:35.732206Z",
     "start_time": "2024-03-17T22:00:35.729852Z"
    }
   },
   "id": "5c180b735d73fb9c",
   "execution_count": 18
  }
 ],
 "metadata": {
  "kernelspec": {
   "display_name": "Python 3",
   "language": "python",
   "name": "python3"
  },
  "language_info": {
   "codemirror_mode": {
    "name": "ipython",
    "version": 2
   },
   "file_extension": ".py",
   "mimetype": "text/x-python",
   "name": "python",
   "nbconvert_exporter": "python",
   "pygments_lexer": "ipython2",
   "version": "2.7.6"
  }
 },
 "nbformat": 4,
 "nbformat_minor": 5
}
