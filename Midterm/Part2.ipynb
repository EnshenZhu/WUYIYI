{
 "cells": [
  {
   "cell_type": "markdown",
   "source": [
    "# Question 2"
   ],
   "metadata": {
    "collapsed": false
   },
   "id": "7b95f676413e8fb0"
  },
  {
   "cell_type": "code",
   "outputs": [],
   "source": [
    "import torch\n",
    "import torch.nn as nn\n",
    "import numpy as np\n",
    "import pandas as pd\n",
    "from sklearn.preprocessing import MinMaxScaler\n",
    "from sklearn.model_selection import train_test_split"
   ],
   "metadata": {
    "collapsed": false,
    "ExecuteTime": {
     "end_time": "2024-03-17T13:23:28.035129500Z",
     "start_time": "2024-03-17T13:23:28.014676100Z"
    }
   },
   "id": "74aeb79d1dcbf0e8",
   "execution_count": 20
  },
  {
   "cell_type": "code",
   "outputs": [
    {
     "data": {
      "text/plain": "     Month  Consumptions\n0   16-Nov    15829899.5\n1   16-Dec    17682496.4\n2   17-Jan    17248195.1\n3   17-Feb    15385845.5\n4   17-Mar    17165011.8\n..     ...           ...\n81  23-Aug    18920804.9\n82  23-Sep    17898675.1\n83  23-Oct    19115237.6\n84  23-Nov    19136435.2\n85  23-Dec    20149558.6\n\n[86 rows x 2 columns]",
      "text/html": "<div>\n<style scoped>\n    .dataframe tbody tr th:only-of-type {\n        vertical-align: middle;\n    }\n\n    .dataframe tbody tr th {\n        vertical-align: top;\n    }\n\n    .dataframe thead th {\n        text-align: right;\n    }\n</style>\n<table border=\"1\" class=\"dataframe\">\n  <thead>\n    <tr style=\"text-align: right;\">\n      <th></th>\n      <th>Month</th>\n      <th>Consumptions</th>\n    </tr>\n  </thead>\n  <tbody>\n    <tr>\n      <th>0</th>\n      <td>16-Nov</td>\n      <td>15829899.5</td>\n    </tr>\n    <tr>\n      <th>1</th>\n      <td>16-Dec</td>\n      <td>17682496.4</td>\n    </tr>\n    <tr>\n      <th>2</th>\n      <td>17-Jan</td>\n      <td>17248195.1</td>\n    </tr>\n    <tr>\n      <th>3</th>\n      <td>17-Feb</td>\n      <td>15385845.5</td>\n    </tr>\n    <tr>\n      <th>4</th>\n      <td>17-Mar</td>\n      <td>17165011.8</td>\n    </tr>\n    <tr>\n      <th>...</th>\n      <td>...</td>\n      <td>...</td>\n    </tr>\n    <tr>\n      <th>81</th>\n      <td>23-Aug</td>\n      <td>18920804.9</td>\n    </tr>\n    <tr>\n      <th>82</th>\n      <td>23-Sep</td>\n      <td>17898675.1</td>\n    </tr>\n    <tr>\n      <th>83</th>\n      <td>23-Oct</td>\n      <td>19115237.6</td>\n    </tr>\n    <tr>\n      <th>84</th>\n      <td>23-Nov</td>\n      <td>19136435.2</td>\n    </tr>\n    <tr>\n      <th>85</th>\n      <td>23-Dec</td>\n      <td>20149558.6</td>\n    </tr>\n  </tbody>\n</table>\n<p>86 rows × 2 columns</p>\n</div>"
     },
     "execution_count": 21,
     "metadata": {},
     "output_type": "execute_result"
    }
   ],
   "source": [
    "# data loading\n",
    "df = pd.read_csv(r\"canada_natural_gas_consumption.csv\")\n",
    "df"
   ],
   "metadata": {
    "collapsed": false,
    "ExecuteTime": {
     "end_time": "2024-03-17T13:23:28.048187400Z",
     "start_time": "2024-03-17T13:23:28.032136400Z"
    }
   },
   "id": "c80bff15d9c13301",
   "execution_count": 21
  },
  {
   "cell_type": "markdown",
   "source": [
    "## 1. Data Gathering\n",
    "This work collects the Canadian national monthly natural gas consumption from November 2016 to December 2023. The data is downloaded from the Statistic Canada webpage.\n",
    "*Statistics Canada. Table 25-10-0055-01 Supply and disposition of natural gas, monthly (data in thousands) (x 1,000)*"
   ],
   "metadata": {
    "collapsed": false
   },
   "id": "1b58ac0b749aae6"
  },
  {
   "cell_type": "markdown",
   "source": [
    "## 2. Data preprocessing\n",
    "## Task 1: Remove invalid data points"
   ],
   "metadata": {
    "collapsed": false
   },
   "id": "b23d04fdb376430f"
  },
  {
   "cell_type": "code",
   "outputs": [
    {
     "name": "stdout",
     "output_type": "stream",
     "text": [
      "(86, 2)\n"
     ]
    }
   ],
   "source": [
    "# remove data point with invalid value (equal to zero or has no value)\n",
    "df = df[(df[\"Consumptions\"] != 0) & (df[\"Consumptions\"] != \"\")]\n",
    "print(df.shape)"
   ],
   "metadata": {
    "collapsed": false,
    "ExecuteTime": {
     "end_time": "2024-03-17T13:23:28.049185100Z",
     "start_time": "2024-03-17T13:23:28.041584900Z"
    }
   },
   "id": "54f8c395f9c13f3b",
   "execution_count": 22
  },
  {
   "cell_type": "markdown",
   "source": [
    "## Task 2: Data Normalization"
   ],
   "metadata": {
    "collapsed": false
   },
   "id": "5b64aa231e1d1886"
  },
  {
   "cell_type": "code",
   "outputs": [],
   "source": [
    "# gas consumption data normalization\n",
    "scaler = MinMaxScaler(feature_range=(-1, 1))\n",
    "df['Consumptions'] = scaler.fit_transform(df['Consumptions'].values.reshape(-1, 1))"
   ],
   "metadata": {
    "collapsed": false,
    "ExecuteTime": {
     "end_time": "2024-03-17T13:23:28.058959200Z",
     "start_time": "2024-03-17T13:23:28.052177800Z"
    }
   },
   "id": "cbd60559d20aa80e",
   "execution_count": 23
  },
  {
   "cell_type": "code",
   "outputs": [
    {
     "name": "stdout",
     "output_type": "stream",
     "text": [
      "1.0\n",
      "-1.0\n"
     ]
    }
   ],
   "source": [
    "# verify the data range\n",
    "print(np.max(df['Consumptions']))\n",
    "print(np.min(df['Consumptions']))"
   ],
   "metadata": {
    "collapsed": false,
    "ExecuteTime": {
     "end_time": "2024-03-17T13:23:28.060956600Z",
     "start_time": "2024-03-17T13:23:28.056580500Z"
    }
   },
   "id": "2f4751fd495fe501",
   "execution_count": 24
  },
  {
   "cell_type": "markdown",
   "source": [
    "## Task 3: Convert Year-Month to numeric value and build the sequence"
   ],
   "metadata": {
    "collapsed": false
   },
   "id": "fe5f46b157243889"
  },
  {
   "cell_type": "code",
   "outputs": [
    {
     "data": {
      "text/plain": "    Month  Consumptions\n0   24203     -0.723326\n1   24204      0.015767\n2   24205     -0.157498\n3   24206     -0.900481\n4   24207     -0.190683\n..    ...           ...\n81  24284      0.509789\n82  24285      0.102011\n83  24286      0.587358\n84  24287      0.595815\n85  24288      1.000000\n\n[86 rows x 2 columns]",
      "text/html": "<div>\n<style scoped>\n    .dataframe tbody tr th:only-of-type {\n        vertical-align: middle;\n    }\n\n    .dataframe tbody tr th {\n        vertical-align: top;\n    }\n\n    .dataframe thead th {\n        text-align: right;\n    }\n</style>\n<table border=\"1\" class=\"dataframe\">\n  <thead>\n    <tr style=\"text-align: right;\">\n      <th></th>\n      <th>Month</th>\n      <th>Consumptions</th>\n    </tr>\n  </thead>\n  <tbody>\n    <tr>\n      <th>0</th>\n      <td>24203</td>\n      <td>-0.723326</td>\n    </tr>\n    <tr>\n      <th>1</th>\n      <td>24204</td>\n      <td>0.015767</td>\n    </tr>\n    <tr>\n      <th>2</th>\n      <td>24205</td>\n      <td>-0.157498</td>\n    </tr>\n    <tr>\n      <th>3</th>\n      <td>24206</td>\n      <td>-0.900481</td>\n    </tr>\n    <tr>\n      <th>4</th>\n      <td>24207</td>\n      <td>-0.190683</td>\n    </tr>\n    <tr>\n      <th>...</th>\n      <td>...</td>\n      <td>...</td>\n    </tr>\n    <tr>\n      <th>81</th>\n      <td>24284</td>\n      <td>0.509789</td>\n    </tr>\n    <tr>\n      <th>82</th>\n      <td>24285</td>\n      <td>0.102011</td>\n    </tr>\n    <tr>\n      <th>83</th>\n      <td>24286</td>\n      <td>0.587358</td>\n    </tr>\n    <tr>\n      <th>84</th>\n      <td>24287</td>\n      <td>0.595815</td>\n    </tr>\n    <tr>\n      <th>85</th>\n      <td>24288</td>\n      <td>1.000000</td>\n    </tr>\n  </tbody>\n</table>\n<p>86 rows × 2 columns</p>\n</div>"
     },
     "execution_count": 25,
     "metadata": {},
     "output_type": "execute_result"
    }
   ],
   "source": [
    "# Convert year-month string to numerical values\n",
    "from datetime import datetime\n",
    "\n",
    "\n",
    "def year_month_to_numeric(year_month):\n",
    "    date_obj = datetime.strptime(year_month, '%y-%b')\n",
    "    numeric_representation = date_obj.year * 12 + date_obj.month\n",
    "    return numeric_representation\n",
    "\n",
    "\n",
    "df['Month'] = df['Month'].apply(year_month_to_numeric)\n",
    "\n",
    "df"
   ],
   "metadata": {
    "collapsed": false,
    "ExecuteTime": {
     "end_time": "2024-03-17T13:23:28.122183600Z",
     "start_time": "2024-03-17T13:23:28.061954800Z"
    }
   },
   "id": "479bf5b3290b4b59",
   "execution_count": 25
  },
  {
   "cell_type": "code",
   "outputs": [],
   "source": [
    "# Convert to a numpy array\n",
    "dataset = df[['Month', 'Consumptions']].to_numpy()\n",
    "\n",
    "# Define sequence length (number of time steps to look back)\n",
    "seq_length = 5\n",
    "\n",
    "\n",
    "# Create sequences\n",
    "def create_sequences(data, seq_length):\n",
    "    sequences = []\n",
    "    for i in range(len(data) - seq_length):\n",
    "        seq = data[i:i + seq_length]\n",
    "        sequences.append(seq)\n",
    "    return np.array(sequences)\n",
    "\n",
    "\n",
    "# Create input sequences and labels\n",
    "sequences = create_sequences(dataset, seq_length)\n",
    "X = sequences[:, :-1]\n",
    "y = sequences[:, -1][:, -1]"
   ],
   "metadata": {
    "collapsed": false,
    "ExecuteTime": {
     "end_time": "2024-03-17T13:23:28.123181300Z",
     "start_time": "2024-03-17T13:23:28.071339900Z"
    }
   },
   "id": "ebd6a9ebdc79eb53",
   "execution_count": 26
  },
  {
   "cell_type": "markdown",
   "source": [
    "## Task 4: Train, test, validation dataset splitting\n",
    "In such a case, we are going to split the dataset into (0.8,0.1,0.1) in respect to the (X_train, X_val, X_test) "
   ],
   "metadata": {
    "collapsed": false
   },
   "id": "b72d75b3eb52a077"
  },
  {
   "cell_type": "code",
   "outputs": [],
   "source": [],
   "metadata": {
    "collapsed": false,
    "ExecuteTime": {
     "end_time": "2024-03-17T13:23:28.123181300Z",
     "start_time": "2024-03-17T13:23:28.074780200Z"
    }
   },
   "id": "b2607785789821de",
   "execution_count": 27
  }
 ],
 "metadata": {
  "kernelspec": {
   "display_name": "Python 3",
   "language": "python",
   "name": "python3"
  },
  "language_info": {
   "codemirror_mode": {
    "name": "ipython",
    "version": 2
   },
   "file_extension": ".py",
   "mimetype": "text/x-python",
   "name": "python",
   "nbconvert_exporter": "python",
   "pygments_lexer": "ipython2",
   "version": "2.7.6"
  }
 },
 "nbformat": 4,
 "nbformat_minor": 5
}
