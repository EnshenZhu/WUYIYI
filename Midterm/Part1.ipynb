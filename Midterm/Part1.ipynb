{
 "cells": [
  {
   "cell_type": "markdown",
   "source": [
    "## Step 1 Fetch Stock Prices\n",
    "We will use the NVIDIA and CocaCola stock historical data for the analysis, as well as getting the historical data of the NASDAQ market. The stock history period ranges from 2023-01-01 to 2024-01-01"
   ],
   "metadata": {
    "collapsed": false
   },
   "id": "c7374537b10c9a43"
  },
  {
   "cell_type": "code",
   "outputs": [],
   "source": [
    "import yfinance as yf"
   ],
   "metadata": {
    "collapsed": true,
    "ExecuteTime": {
     "end_time": "2024-03-18T04:05:35.049524Z",
     "start_time": "2024-03-18T04:05:34.460256Z"
    }
   },
   "id": "initial_id",
   "execution_count": 1
  },
  {
   "cell_type": "code",
   "outputs": [],
   "source": [
    "# Define the stock symbol and the time period\n",
    "nvidia_stock_symbol = \"NVDA\"  # NVIDIA Ltd.\n",
    "coca_stock_symbol = \"KO\"  # Coca Cola Ltd.\n",
    "market_symbol = \"^GSPC\"  # NASDAQ 100\n",
    "\n",
    "start_date = \"2023-01-01\"\n",
    "end_date = \"2024-01-01\""
   ],
   "metadata": {
    "collapsed": false,
    "ExecuteTime": {
     "end_time": "2024-03-18T04:05:35.054498Z",
     "start_time": "2024-03-18T04:05:35.050535Z"
    }
   },
   "id": "b73d6499a179765b",
   "execution_count": 2
  },
  {
   "cell_type": "code",
   "outputs": [
    {
     "name": "stderr",
     "output_type": "stream",
     "text": [
      "[*********************100%%**********************]  1 of 1 completed\n",
      "[*********************100%%**********************]  1 of 1 completed\n",
      "[*********************100%%**********************]  1 of 1 completed\n"
     ]
    }
   ],
   "source": [
    "# Fetch daily historical stock data\n",
    "nvidia_stock_data = yf.download(nvidia_stock_symbol, start=start_date, end=end_date)\n",
    "coca_stock_data = yf.download(coca_stock_symbol, start=start_date, end=end_date)\n",
    "market_data = yf.download(market_symbol, start=start_date, end=end_date)"
   ],
   "metadata": {
    "collapsed": false,
    "ExecuteTime": {
     "end_time": "2024-03-18T04:05:36.017060Z",
     "start_time": "2024-03-18T04:05:35.055504Z"
    }
   },
   "id": "4511ce84b06ef9a9",
   "execution_count": 3
  },
  {
   "cell_type": "code",
   "outputs": [
    {
     "data": {
      "text/plain": "                  Open        High         Low       Close   Adj Close  \\\nDate                                                                     \n2023-01-03  148.509995  149.960007  140.960007  143.149994  143.079788   \n2023-01-04  145.669998  148.529999  142.410004  147.490005  147.417679   \n2023-01-05  144.910004  145.639999  141.479996  142.649994  142.580032   \n2023-01-06  144.740005  150.100006  140.339996  148.589996  148.517136   \n2023-01-09  152.839996  160.559998  151.410004  156.279999  156.203369   \n...                ...         ...         ...         ...         ...   \n2023-12-22  491.950012  493.829987  484.670013  488.299988  488.277069   \n2023-12-26  489.679993  496.000000  489.600006  492.790009  492.766907   \n2023-12-27  495.109985  496.799988  490.850006  494.170013  494.146820   \n2023-12-28  496.429993  498.839996  494.119995  495.220001  495.196777   \n2023-12-29  498.130005  499.970001  487.510010  495.220001  495.196777   \n\n              Volume  \nDate                  \n2023-01-03  40127700  \n2023-01-04  43132400  \n2023-01-05  38916800  \n2023-01-06  40504400  \n2023-01-09  50423100  \n...              ...  \n2023-12-22  25213900  \n2023-12-26  24420000  \n2023-12-27  23364800  \n2023-12-28  24658700  \n2023-12-29  38869000  \n\n[250 rows x 6 columns]",
      "text/html": "<div>\n<style scoped>\n    .dataframe tbody tr th:only-of-type {\n        vertical-align: middle;\n    }\n\n    .dataframe tbody tr th {\n        vertical-align: top;\n    }\n\n    .dataframe thead th {\n        text-align: right;\n    }\n</style>\n<table border=\"1\" class=\"dataframe\">\n  <thead>\n    <tr style=\"text-align: right;\">\n      <th></th>\n      <th>Open</th>\n      <th>High</th>\n      <th>Low</th>\n      <th>Close</th>\n      <th>Adj Close</th>\n      <th>Volume</th>\n    </tr>\n    <tr>\n      <th>Date</th>\n      <th></th>\n      <th></th>\n      <th></th>\n      <th></th>\n      <th></th>\n      <th></th>\n    </tr>\n  </thead>\n  <tbody>\n    <tr>\n      <th>2023-01-03</th>\n      <td>148.509995</td>\n      <td>149.960007</td>\n      <td>140.960007</td>\n      <td>143.149994</td>\n      <td>143.079788</td>\n      <td>40127700</td>\n    </tr>\n    <tr>\n      <th>2023-01-04</th>\n      <td>145.669998</td>\n      <td>148.529999</td>\n      <td>142.410004</td>\n      <td>147.490005</td>\n      <td>147.417679</td>\n      <td>43132400</td>\n    </tr>\n    <tr>\n      <th>2023-01-05</th>\n      <td>144.910004</td>\n      <td>145.639999</td>\n      <td>141.479996</td>\n      <td>142.649994</td>\n      <td>142.580032</td>\n      <td>38916800</td>\n    </tr>\n    <tr>\n      <th>2023-01-06</th>\n      <td>144.740005</td>\n      <td>150.100006</td>\n      <td>140.339996</td>\n      <td>148.589996</td>\n      <td>148.517136</td>\n      <td>40504400</td>\n    </tr>\n    <tr>\n      <th>2023-01-09</th>\n      <td>152.839996</td>\n      <td>160.559998</td>\n      <td>151.410004</td>\n      <td>156.279999</td>\n      <td>156.203369</td>\n      <td>50423100</td>\n    </tr>\n    <tr>\n      <th>...</th>\n      <td>...</td>\n      <td>...</td>\n      <td>...</td>\n      <td>...</td>\n      <td>...</td>\n      <td>...</td>\n    </tr>\n    <tr>\n      <th>2023-12-22</th>\n      <td>491.950012</td>\n      <td>493.829987</td>\n      <td>484.670013</td>\n      <td>488.299988</td>\n      <td>488.277069</td>\n      <td>25213900</td>\n    </tr>\n    <tr>\n      <th>2023-12-26</th>\n      <td>489.679993</td>\n      <td>496.000000</td>\n      <td>489.600006</td>\n      <td>492.790009</td>\n      <td>492.766907</td>\n      <td>24420000</td>\n    </tr>\n    <tr>\n      <th>2023-12-27</th>\n      <td>495.109985</td>\n      <td>496.799988</td>\n      <td>490.850006</td>\n      <td>494.170013</td>\n      <td>494.146820</td>\n      <td>23364800</td>\n    </tr>\n    <tr>\n      <th>2023-12-28</th>\n      <td>496.429993</td>\n      <td>498.839996</td>\n      <td>494.119995</td>\n      <td>495.220001</td>\n      <td>495.196777</td>\n      <td>24658700</td>\n    </tr>\n    <tr>\n      <th>2023-12-29</th>\n      <td>498.130005</td>\n      <td>499.970001</td>\n      <td>487.510010</td>\n      <td>495.220001</td>\n      <td>495.196777</td>\n      <td>38869000</td>\n    </tr>\n  </tbody>\n</table>\n<p>250 rows × 6 columns</p>\n</div>"
     },
     "execution_count": 4,
     "metadata": {},
     "output_type": "execute_result"
    }
   ],
   "source": [
    "nvidia_stock_data"
   ],
   "metadata": {
    "collapsed": false,
    "ExecuteTime": {
     "end_time": "2024-03-18T04:05:36.031518Z",
     "start_time": "2024-03-18T04:05:36.018079Z"
    }
   },
   "id": "1135125c9ce2e9a6",
   "execution_count": 4
  },
  {
   "cell_type": "code",
   "outputs": [
    {
     "name": "stdout",
     "output_type": "stream",
     "text": [
      "(249,)\n",
      "(249,)\n",
      "(249,)\n"
     ]
    }
   ],
   "source": [
    "# Extract the closing prices\n",
    "nvidia_adj_close = nvidia_stock_data[\"Adj Close\"].pct_change().dropna()\n",
    "coca_adj_close = coca_stock_data[\"Adj Close\"].pct_change().dropna()\n",
    "market_adj_close = market_data[\"Adj Close\"].pct_change().dropna()\n",
    "\n",
    "# verify the integrity of the closing price data\n",
    "print(nvidia_adj_close.shape)\n",
    "print(coca_adj_close.shape)\n",
    "print(market_adj_close.shape)"
   ],
   "metadata": {
    "collapsed": false,
    "ExecuteTime": {
     "end_time": "2024-03-18T04:05:36.041002Z",
     "start_time": "2024-03-18T04:05:36.033523Z"
    }
   },
   "id": "6e40d88d2693d3f",
   "execution_count": 5
  },
  {
   "cell_type": "markdown",
   "source": [
    "## Step 2 Calculate the Beta Coefficient\n",
    "Recall that the beta coefficient\n",
    "$$\\beta=\\dfrac{Cov(R_e, R_m)}{Var(R_m)}$$\n",
    "where $R_e$ is the return on an individual stock and $R_m$ is the return of the overall market."
   ],
   "metadata": {
    "collapsed": false
   },
   "id": "9208d0bddffe027a"
  },
  {
   "cell_type": "code",
   "outputs": [],
   "source": [
    "import numpy as np"
   ],
   "metadata": {
    "collapsed": false,
    "ExecuteTime": {
     "end_time": "2024-03-18T04:05:36.044714Z",
     "start_time": "2024-03-18T04:05:36.042011Z"
    }
   },
   "id": "ae56cc94975f8de1",
   "execution_count": 6
  },
  {
   "cell_type": "code",
   "outputs": [],
   "source": [
    "covariance_nvidia = np.cov(nvidia_adj_close, market_adj_close)[0, 1]\n",
    "covariance_coca = np.cov(coca_adj_close, market_adj_close)[0, 1]\n",
    "variance_market = np.var(market_adj_close)"
   ],
   "metadata": {
    "collapsed": false,
    "ExecuteTime": {
     "end_time": "2024-03-18T04:05:36.049783Z",
     "start_time": "2024-03-18T04:05:36.045719Z"
    }
   },
   "id": "48d398a3bae06311",
   "execution_count": 7
  },
  {
   "cell_type": "code",
   "outputs": [],
   "source": [
    "beta_nvidia = covariance_nvidia / variance_market\n",
    "beta_coca = covariance_coca / variance_market"
   ],
   "metadata": {
    "collapsed": false,
    "ExecuteTime": {
     "end_time": "2024-03-18T04:05:36.053942Z",
     "start_time": "2024-03-18T04:05:36.050788Z"
    }
   },
   "id": "e5d7d47cfc224228",
   "execution_count": 8
  },
  {
   "cell_type": "code",
   "outputs": [
    {
     "name": "stdout",
     "output_type": "stream",
     "text": [
      "The beta of NVDA in relation to ^GSPC is: 2.0483\n",
      "The beta of KO in relation to ^GSPC is: 0.3820\n"
     ]
    }
   ],
   "source": [
    "print(f\"The beta of {nvidia_stock_symbol} in relation to {market_symbol} is: {beta_nvidia:.4f}\")\n",
    "print(f\"The beta of {coca_stock_symbol} in relation to {market_symbol} is: {beta_coca:.4f}\")"
   ],
   "metadata": {
    "collapsed": false,
    "ExecuteTime": {
     "end_time": "2024-03-18T04:05:36.059199Z",
     "start_time": "2024-03-18T04:05:36.054948Z"
    }
   },
   "id": "f486b27d3d358185",
   "execution_count": 9
  },
  {
   "cell_type": "markdown",
   "source": [
    "(TODO: 在这边讨论beta值对股票性能的体现)"
   ],
   "metadata": {
    "collapsed": false
   },
   "id": "b8974de55e15cab8"
  },
  {
   "cell_type": "markdown",
   "source": [
    "## Step 3 Estimates the CAPM model\n",
    "Recall that in the capital asset pricing model (CAPM):\n",
    "$$E(R_i)=R_f+\\beta_i(E(R_m)-R_f)$$\n",
    "where $E(R_i)$ is the capital asset expected return, $R_f$ is the risk-free rate of interest,  $\\beta_i$ is the sensitivity and $E(R_m)$ is the expected return of the market"
   ],
   "metadata": {
    "collapsed": false
   },
   "id": "c10236d77c84160f"
  },
  {
   "cell_type": "code",
   "outputs": [],
   "source": [
    "from scipy.stats import linregress"
   ],
   "metadata": {
    "collapsed": false,
    "ExecuteTime": {
     "end_time": "2024-03-18T04:05:36.449684Z",
     "start_time": "2024-03-18T04:05:36.060205Z"
    }
   },
   "id": "5ff32153b3a4d444",
   "execution_count": 10
  },
  {
   "cell_type": "code",
   "outputs": [
    {
     "name": "stderr",
     "output_type": "stream",
     "text": [
      "[*********************100%%**********************]  1 of 1 completed\n"
     ]
    },
    {
     "data": {
      "text/plain": "0.05045160009384155"
     },
     "execution_count": 11,
     "metadata": {},
     "output_type": "execute_result"
    }
   ],
   "source": [
    "# handle the average risk-free rate\n",
    "risk_free_rate_data = yf.download('^IRX', start=start_date, end=end_date)\n",
    "risk_free_rate = risk_free_rate_data['Adj Close'] / 100  # Convert percentage to decimal\n",
    "avg_risk_free_rate = np.mean(risk_free_rate)\n",
    "\n",
    "avg_risk_free_rate"
   ],
   "metadata": {
    "collapsed": false,
    "ExecuteTime": {
     "end_time": "2024-03-18T04:05:36.527831Z",
     "start_time": "2024-03-18T04:05:36.450690Z"
    }
   },
   "id": "7540219bd94e5bc6",
   "execution_count": 11
  },
  {
   "cell_type": "code",
   "outputs": [
    {
     "data": {
      "text/plain": "2.040046303908817"
     },
     "execution_count": 12,
     "metadata": {},
     "output_type": "execute_result"
    }
   ],
   "source": [
    "# handle the estimated beta value\n",
    "est_beta_nvidia = linregress(market_adj_close, nvidia_adj_close)[0]\n",
    "est_beta_coca = linregress(market_adj_close, coca_adj_close)[0]\n",
    "\n",
    "est_beta_nvidia"
   ],
   "metadata": {
    "collapsed": false,
    "ExecuteTime": {
     "end_time": "2024-03-18T04:05:36.534313Z",
     "start_time": "2024-03-18T04:05:36.528835Z"
    }
   },
   "id": "d45d976bbfd03634",
   "execution_count": 12
  },
  {
   "cell_type": "code",
   "outputs": [],
   "source": [
    "# handle the CAPM output\n",
    "def calculate_CAPM(expected_market_return, risk_free_rate, beta):\n",
    "    return risk_free_rate + beta * (expected_market_return - risk_free_rate)\n",
    "\n",
    "\n",
    "expected_market_return = 0.2\n",
    "expected_nvidia_return = calculate_CAPM(expected_market_return, avg_risk_free_rate, est_beta_nvidia)\n",
    "expected_coca_return = calculate_CAPM(expected_market_return, avg_risk_free_rate, est_beta_coca)"
   ],
   "metadata": {
    "collapsed": false,
    "ExecuteTime": {
     "end_time": "2024-03-18T04:05:36.538646Z",
     "start_time": "2024-03-18T04:05:36.535318Z"
    }
   },
   "id": "7c56b6171a9171f9",
   "execution_count": 13
  },
  {
   "cell_type": "code",
   "outputs": [
    {
     "name": "stdout",
     "output_type": "stream",
     "text": [
      "NVIDIA: Calculated beta: 2.0483; Estimated beta: 2.0400; Expected return (CAPM): 0.3555\n",
      "CocaCola: Calculated beta: 0.3820; Estimated beta: 0.3805; Expected return (CAPM): 0.1074\n"
     ]
    }
   ],
   "source": [
    "print(\n",
    "    f'NVIDIA: Calculated beta: {beta_nvidia:.4f}; Estimated beta: {est_beta_nvidia:.4f}; Expected return (CAPM): {expected_nvidia_return:.4f}')\n",
    "print(\n",
    "    f'CocaCola: Calculated beta: {beta_coca:.4f}; Estimated beta: {est_beta_coca:.4f}; Expected return (CAPM): {expected_coca_return:.4f}')"
   ],
   "metadata": {
    "collapsed": false,
    "ExecuteTime": {
     "end_time": "2024-03-18T04:05:36.545749Z",
     "start_time": "2024-03-18T04:05:36.541651Z"
    }
   },
   "id": "231c781f9c410ef9",
   "execution_count": 14
  },
  {
   "cell_type": "markdown",
   "source": [
    "(TODO: 在这边讨论区别)"
   ],
   "metadata": {
    "collapsed": false
   },
   "id": "29fd829479b0747d"
  },
  {
   "cell_type": "markdown",
   "source": [
    "## Step 4 Minimum Variance Portfolio"
   ],
   "metadata": {
    "collapsed": false
   },
   "id": "2a1b19ac0ecf860b"
  },
  {
   "cell_type": "code",
   "outputs": [
    {
     "name": "stdout",
     "output_type": "stream",
     "text": [
      "Minimum Variance Portfolio Weights:\n",
      "[0.21248442 0.78751558]\n"
     ]
    }
   ],
   "source": [
    "# Calculate the covariance matrix between two stocks and invert the covariance matrix\n",
    "cov_matrix = np.cov(nvidia_adj_close, coca_adj_close)\n",
    "inv_cov_matrix = np.linalg.inv(cov_matrix)\n",
    "\n",
    "# define the expected return rate\n",
    "expected_return_rates = [0.35, 0.1]\n",
    "\n",
    "# Calculate the weights for the minimum variance portfolio\n",
    "weights_min_variance = inv_cov_matrix @ expected_return_rates / np.sum(inv_cov_matrix @ expected_return_rates)\n",
    "\n",
    "print(\"Minimum Variance Portfolio Weights:\")\n",
    "print(weights_min_variance)"
   ],
   "metadata": {
    "collapsed": false,
    "ExecuteTime": {
     "end_time": "2024-03-18T04:05:36.551570Z",
     "start_time": "2024-03-18T04:05:36.546768Z"
    }
   },
   "id": "9ae8796a16a8c2fa",
   "execution_count": 15
  },
  {
   "cell_type": "code",
   "outputs": [
    {
     "data": {
      "text/plain": "(249,)"
     },
     "execution_count": 16,
     "metadata": {},
     "output_type": "execute_result"
    }
   ],
   "source": [
    "# Build the portfolio\n",
    "w1, w2 = weights_min_variance\n",
    "portfolio_adj_close = w1 * nvidia_adj_close + w2 * coca_adj_close\n",
    "portfolio_adj_close.shape"
   ],
   "metadata": {
    "collapsed": false,
    "ExecuteTime": {
     "end_time": "2024-03-18T04:05:36.557204Z",
     "start_time": "2024-03-18T04:05:36.552575Z"
    }
   },
   "id": "35616fc67200815a",
   "execution_count": 16
  },
  {
   "cell_type": "code",
   "outputs": [
    {
     "name": "stdout",
     "output_type": "stream",
     "text": [
      "Minimum Variance Portfolio Expected Return (CAPM): 0.1601\n"
     ]
    }
   ],
   "source": [
    "# calculate the CAPM for the built portfolio\n",
    "est_beta_portfolio = linregress(market_adj_close, portfolio_adj_close)[0]\n",
    "expected_market_return = 0.2\n",
    "expected_portfolio_return = calculate_CAPM(expected_market_return, avg_risk_free_rate, est_beta_portfolio)\n",
    "\n",
    "print(f'Minimum Variance Portfolio Expected Return (CAPM): {expected_portfolio_return:.4f}')"
   ],
   "metadata": {
    "collapsed": false,
    "ExecuteTime": {
     "end_time": "2024-03-18T04:05:36.562215Z",
     "start_time": "2024-03-18T04:05:36.558212Z"
    }
   },
   "id": "473164e187b5f458",
   "execution_count": 17
  },
  {
   "cell_type": "markdown",
   "source": [
    "## Step 5 Compare to the weekly or monthly stock price"
   ],
   "metadata": {
    "collapsed": false
   },
   "id": "d6b9e0d2e6195301"
  },
  {
   "cell_type": "code",
   "outputs": [
    {
     "name": "stderr",
     "output_type": "stream",
     "text": [
      "[*********************100%%**********************]  1 of 1 completed\n",
      "[*********************100%%**********************]  1 of 1 completed\n",
      "[*********************100%%**********************]  1 of 1 completed\n"
     ]
    }
   ],
   "source": [
    "# Fetch monthly historical stock data\n",
    "M_nvidia_stock_data = yf.download(nvidia_stock_symbol, start=start_date, end=end_date, interval=\"1mo\")\n",
    "M_coca_stock_data = yf.download(coca_stock_symbol, start=start_date, end=end_date, interval=\"1mo\")\n",
    "M_market_data = yf.download(market_symbol, start=start_date, end=end_date, interval=\"1mo\")"
   ],
   "metadata": {
    "collapsed": false,
    "ExecuteTime": {
     "end_time": "2024-03-18T04:05:36.887220Z",
     "start_time": "2024-03-18T04:05:36.563222Z"
    }
   },
   "id": "34b1f21094c023be",
   "execution_count": 18
  },
  {
   "cell_type": "code",
   "outputs": [
    {
     "data": {
      "text/plain": "                  Open        High         Low       Close   Adj Close  \\\nDate                                                                     \n2023-01-01  148.509995  206.279999  140.339996  195.369995  195.274200   \n2023-02-01  196.910004  238.880005  196.110001  232.160004  232.046143   \n2023-03-01  231.919998  278.339996  222.970001  277.769989  277.633759   \n2023-04-01  275.089996  281.100006  262.200012  277.489990  277.401031   \n2023-05-01  278.399994  419.380005  272.399994  378.339996  378.218689   \n2023-06-01  384.890015  439.899994  373.559998  423.019989  422.884369   \n2023-07-01  425.170013  480.880005  413.459991  467.290009  467.188538   \n2023-08-01  464.600006  502.660004  403.109985  493.549988  493.442780   \n2023-09-01  497.619995  498.000000  409.799988  434.989990  434.895508   \n2023-10-01  440.299988  476.089996  392.299988  407.799988  407.744995   \n2023-11-01  408.839996  505.480011  408.690002  467.700012  467.636963   \n2023-12-01  465.250000  504.329987  450.100006  495.220001  495.153229   \n\n                Volume  \nDate                    \n2023-01-01   945496000  \n2023-02-01  1039347900  \n2023-03-01  1126373100  \n2023-04-01   743592100  \n2023-05-01  1169636000  \n2023-06-01  1052209200  \n2023-07-01   870489500  \n2023-08-01  1363143600  \n2023-09-01   857510100  \n2023-10-01  1013917700  \n2023-11-01   914386300  \n2023-12-01   740951700  ",
      "text/html": "<div>\n<style scoped>\n    .dataframe tbody tr th:only-of-type {\n        vertical-align: middle;\n    }\n\n    .dataframe tbody tr th {\n        vertical-align: top;\n    }\n\n    .dataframe thead th {\n        text-align: right;\n    }\n</style>\n<table border=\"1\" class=\"dataframe\">\n  <thead>\n    <tr style=\"text-align: right;\">\n      <th></th>\n      <th>Open</th>\n      <th>High</th>\n      <th>Low</th>\n      <th>Close</th>\n      <th>Adj Close</th>\n      <th>Volume</th>\n    </tr>\n    <tr>\n      <th>Date</th>\n      <th></th>\n      <th></th>\n      <th></th>\n      <th></th>\n      <th></th>\n      <th></th>\n    </tr>\n  </thead>\n  <tbody>\n    <tr>\n      <th>2023-01-01</th>\n      <td>148.509995</td>\n      <td>206.279999</td>\n      <td>140.339996</td>\n      <td>195.369995</td>\n      <td>195.274200</td>\n      <td>945496000</td>\n    </tr>\n    <tr>\n      <th>2023-02-01</th>\n      <td>196.910004</td>\n      <td>238.880005</td>\n      <td>196.110001</td>\n      <td>232.160004</td>\n      <td>232.046143</td>\n      <td>1039347900</td>\n    </tr>\n    <tr>\n      <th>2023-03-01</th>\n      <td>231.919998</td>\n      <td>278.339996</td>\n      <td>222.970001</td>\n      <td>277.769989</td>\n      <td>277.633759</td>\n      <td>1126373100</td>\n    </tr>\n    <tr>\n      <th>2023-04-01</th>\n      <td>275.089996</td>\n      <td>281.100006</td>\n      <td>262.200012</td>\n      <td>277.489990</td>\n      <td>277.401031</td>\n      <td>743592100</td>\n    </tr>\n    <tr>\n      <th>2023-05-01</th>\n      <td>278.399994</td>\n      <td>419.380005</td>\n      <td>272.399994</td>\n      <td>378.339996</td>\n      <td>378.218689</td>\n      <td>1169636000</td>\n    </tr>\n    <tr>\n      <th>2023-06-01</th>\n      <td>384.890015</td>\n      <td>439.899994</td>\n      <td>373.559998</td>\n      <td>423.019989</td>\n      <td>422.884369</td>\n      <td>1052209200</td>\n    </tr>\n    <tr>\n      <th>2023-07-01</th>\n      <td>425.170013</td>\n      <td>480.880005</td>\n      <td>413.459991</td>\n      <td>467.290009</td>\n      <td>467.188538</td>\n      <td>870489500</td>\n    </tr>\n    <tr>\n      <th>2023-08-01</th>\n      <td>464.600006</td>\n      <td>502.660004</td>\n      <td>403.109985</td>\n      <td>493.549988</td>\n      <td>493.442780</td>\n      <td>1363143600</td>\n    </tr>\n    <tr>\n      <th>2023-09-01</th>\n      <td>497.619995</td>\n      <td>498.000000</td>\n      <td>409.799988</td>\n      <td>434.989990</td>\n      <td>434.895508</td>\n      <td>857510100</td>\n    </tr>\n    <tr>\n      <th>2023-10-01</th>\n      <td>440.299988</td>\n      <td>476.089996</td>\n      <td>392.299988</td>\n      <td>407.799988</td>\n      <td>407.744995</td>\n      <td>1013917700</td>\n    </tr>\n    <tr>\n      <th>2023-11-01</th>\n      <td>408.839996</td>\n      <td>505.480011</td>\n      <td>408.690002</td>\n      <td>467.700012</td>\n      <td>467.636963</td>\n      <td>914386300</td>\n    </tr>\n    <tr>\n      <th>2023-12-01</th>\n      <td>465.250000</td>\n      <td>504.329987</td>\n      <td>450.100006</td>\n      <td>495.220001</td>\n      <td>495.153229</td>\n      <td>740951700</td>\n    </tr>\n  </tbody>\n</table>\n</div>"
     },
     "execution_count": 19,
     "metadata": {},
     "output_type": "execute_result"
    }
   ],
   "source": [
    "M_nvidia_stock_data"
   ],
   "metadata": {
    "collapsed": false,
    "ExecuteTime": {
     "end_time": "2024-03-18T04:05:36.896961Z",
     "start_time": "2024-03-18T04:05:36.888225Z"
    }
   },
   "id": "3d2883fea74f1867",
   "execution_count": 19
  },
  {
   "cell_type": "code",
   "outputs": [
    {
     "name": "stdout",
     "output_type": "stream",
     "text": [
      "(11,)\n",
      "(11,)\n",
      "(11,)\n"
     ]
    }
   ],
   "source": [
    "# Extract the monthly closing prices\n",
    "M_nvidia_adj_close = M_nvidia_stock_data[\"Adj Close\"].pct_change().dropna()\n",
    "M_coca_adj_close = M_coca_stock_data[\"Adj Close\"].pct_change().dropna()\n",
    "M_market_adj_close = M_market_data[\"Adj Close\"].pct_change().dropna()\n",
    "\n",
    "# verify the integrity of the closing price data\n",
    "print(M_nvidia_adj_close.shape)\n",
    "print(M_coca_adj_close.shape)\n",
    "print(M_market_adj_close.shape)"
   ],
   "metadata": {
    "collapsed": false,
    "ExecuteTime": {
     "end_time": "2024-03-18T04:05:36.904992Z",
     "start_time": "2024-03-18T04:05:36.897969Z"
    }
   },
   "id": "541132966248d38f",
   "execution_count": 20
  },
  {
   "cell_type": "code",
   "outputs": [
    {
     "name": "stderr",
     "output_type": "stream",
     "text": [
      "[*********************100%%**********************]  1 of 1 completed\n"
     ]
    },
    {
     "data": {
      "text/plain": "0.05064416686693828"
     },
     "execution_count": 21,
     "metadata": {},
     "output_type": "execute_result"
    }
   ],
   "source": [
    "# handle the montly average risk-free rate\n",
    "M_risk_free_rate_data = yf.download('^IRX', start=start_date, end=end_date, interval=\"1mo\")\n",
    "M_risk_free_rate = M_risk_free_rate_data['Adj Close'] / 100  # Convert percentage to decimal\n",
    "M_avg_risk_free_rate = np.mean(M_risk_free_rate)\n",
    "\n",
    "M_avg_risk_free_rate"
   ],
   "metadata": {
    "collapsed": false,
    "ExecuteTime": {
     "end_time": "2024-03-18T04:05:36.966502Z",
     "start_time": "2024-03-18T04:05:36.906008Z"
    }
   },
   "id": "26409d34143e51d0",
   "execution_count": 21
  },
  {
   "cell_type": "code",
   "outputs": [
    {
     "name": "stdout",
     "output_type": "stream",
     "text": [
      "1.102999445347155\n",
      "0.6498956065709122\n"
     ]
    }
   ],
   "source": [
    "# handle the estimated beta value for monthly data\n",
    "M_est_beta_nvidia = linregress(M_market_adj_close, M_nvidia_adj_close)[0]\n",
    "M_est_beta_coca = linregress(M_market_adj_close, M_coca_adj_close)[0]\n",
    "\n",
    "print(M_est_beta_nvidia)\n",
    "print(M_est_beta_coca)"
   ],
   "metadata": {
    "collapsed": false,
    "ExecuteTime": {
     "end_time": "2024-03-18T04:05:36.971741Z",
     "start_time": "2024-03-18T04:05:36.967508Z"
    }
   },
   "id": "e1acc83a1e36d56a",
   "execution_count": 22
  },
  {
   "cell_type": "code",
   "outputs": [],
   "source": [
    "# handle the CAPM output\n",
    "def calculate_CAPM(expected_market_return, risk_free_rate, beta):\n",
    "    return risk_free_rate + beta * (expected_market_return - risk_free_rate)\n",
    "\n",
    "\n",
    "expected_market_return = 0.2\n",
    "M_expected_nvidia_return = calculate_CAPM(expected_market_return, M_avg_risk_free_rate, M_est_beta_nvidia)\n",
    "M_expected_coca_return = calculate_CAPM(expected_market_return, M_avg_risk_free_rate, M_est_beta_coca)"
   ],
   "metadata": {
    "collapsed": false,
    "ExecuteTime": {
     "end_time": "2024-03-18T04:05:36.977543Z",
     "start_time": "2024-03-18T04:05:36.972748Z"
    }
   },
   "id": "b0b5a7280891f536",
   "execution_count": 23
  },
  {
   "cell_type": "code",
   "outputs": [
    {
     "name": "stdout",
     "output_type": "stream",
     "text": [
      "For daily profile:\n",
      "NVIDIA: Estimated beta: 2.0400; Expected return (CAPM): 0.3555\n",
      "CocaCola: Estimated beta: 0.3805; Expected return (CAPM): 0.1074\n",
      "For monthly profile:\n",
      "NVIDIA: Estimated beta: 1.1030; Expected return (CAPM): 0.2154\n",
      "CocaCola: Estimated beta: 0.6499; Expected return (CAPM): 0.1477\n"
     ]
    }
   ],
   "source": [
    "print(\"For daily profile:\")\n",
    "print(\n",
    "    f'NVIDIA: Estimated beta: {est_beta_nvidia:.4f}; Expected return (CAPM): {expected_nvidia_return:.4f}')\n",
    "print(\n",
    "    f'CocaCola: Estimated beta: {est_beta_coca:.4f}; Expected return (CAPM): {expected_coca_return:.4f}')\n",
    "\n",
    "print(\"For monthly profile:\")\n",
    "print(\n",
    "    f'NVIDIA: Estimated beta: {M_est_beta_nvidia:.4f}; Expected return (CAPM): {M_expected_nvidia_return:.4f}')\n",
    "print(\n",
    "    f'CocaCola: Estimated beta: {M_est_beta_coca:.4f}; Expected return (CAPM): {M_expected_coca_return:.4f}')"
   ],
   "metadata": {
    "collapsed": false,
    "ExecuteTime": {
     "end_time": "2024-03-18T04:05:36.983767Z",
     "start_time": "2024-03-18T04:05:36.978550Z"
    }
   },
   "id": "5b94952209544e64",
   "execution_count": 24
  },
  {
   "cell_type": "raw",
   "source": [
    "(TODO: Discuss here)"
   ],
   "metadata": {
    "collapsed": false
   },
   "id": "d2522383c19490cc"
  }
 ],
 "metadata": {
  "kernelspec": {
   "display_name": "Python 3",
   "language": "python",
   "name": "python3"
  },
  "language_info": {
   "codemirror_mode": {
    "name": "ipython",
    "version": 2
   },
   "file_extension": ".py",
   "mimetype": "text/x-python",
   "name": "python",
   "nbconvert_exporter": "python",
   "pygments_lexer": "ipython2",
   "version": "2.7.6"
  }
 },
 "nbformat": 4,
 "nbformat_minor": 5
}
