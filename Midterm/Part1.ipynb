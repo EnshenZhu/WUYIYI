{
 "cells": [
  {
   "cell_type": "markdown",
   "source": [
    "## Step 1 Fetch Stock Prices\n",
    "We will use the NVIDIA and CocaCola stock historical data for the analysis, as well as getting the historical data of the NASDAQ market. The stock history period ranges from 2023-01-01 to 2024-01-01"
   ],
   "metadata": {
    "collapsed": false
   },
   "id": "c7374537b10c9a43"
  },
  {
   "cell_type": "code",
   "outputs": [],
   "source": [
    "import yfinance as yf"
   ],
   "metadata": {
    "collapsed": true,
    "ExecuteTime": {
     "end_time": "2024-03-09T06:06:58.980611Z",
     "start_time": "2024-03-09T06:06:58.124540Z"
    }
   },
   "id": "initial_id",
   "execution_count": 1
  },
  {
   "cell_type": "code",
   "outputs": [],
   "source": [
    "# Define the stock symbol and the time period\n",
    "nvidia_stock_symbol = \"NVDA\"  # NVIDIA Ltd.\n",
    "coca_stock_symbol = \"KO\"  # Coca Cola Ltd.\n",
    "market_symbol = \"^GSPC\"  # NASDAQ 100\n",
    "\n",
    "start_date = \"2023-01-01\"\n",
    "end_date = \"2024-01-01\""
   ],
   "metadata": {
    "collapsed": false,
    "ExecuteTime": {
     "end_time": "2024-03-09T06:06:58.986791Z",
     "start_time": "2024-03-09T06:06:58.981650Z"
    }
   },
   "id": "b73d6499a179765b",
   "execution_count": 2
  },
  {
   "cell_type": "code",
   "outputs": [
    {
     "name": "stderr",
     "output_type": "stream",
     "text": [
      "[*********************100%%**********************]  1 of 1 completed\n",
      "[*********************100%%**********************]  1 of 1 completed\n",
      "[*********************100%%**********************]  1 of 1 completed\n"
     ]
    }
   ],
   "source": [
    "# Fetch historical stock data\n",
    "nvidia_stock_data = yf.download(nvidia_stock_symbol, start=start_date, end=end_date)\n",
    "coca_stock_data = yf.download(coca_stock_symbol, start=start_date, end=end_date)\n",
    "market_data = yf.download(market_symbol, start=start_date, end=end_date)"
   ],
   "metadata": {
    "collapsed": false,
    "ExecuteTime": {
     "end_time": "2024-03-09T06:07:01.107055Z",
     "start_time": "2024-03-09T06:06:58.988800Z"
    }
   },
   "id": "4511ce84b06ef9a9",
   "execution_count": 3
  },
  {
   "cell_type": "code",
   "outputs": [
    {
     "data": {
      "text/plain": "                  Open        High         Low       Close   Adj Close  \\\nDate                                                                     \n2023-01-03  148.509995  149.960007  140.960007  143.149994  143.079773   \n2023-01-04  145.669998  148.529999  142.410004  147.490005  147.417679   \n2023-01-05  144.910004  145.639999  141.479996  142.649994  142.580048   \n2023-01-06  144.740005  150.100006  140.339996  148.589996  148.517120   \n2023-01-09  152.839996  160.559998  151.410004  156.279999  156.203354   \n...                ...         ...         ...         ...         ...   \n2023-12-22  491.950012  493.829987  484.670013  488.299988  488.277069   \n2023-12-26  489.679993  496.000000  489.600006  492.790009  492.766907   \n2023-12-27  495.109985  496.799988  490.850006  494.170013  494.146820   \n2023-12-28  496.429993  498.839996  494.119995  495.220001  495.196777   \n2023-12-29  498.130005  499.970001  487.510010  495.220001  495.196777   \n\n              Volume  \nDate                  \n2023-01-03  40127700  \n2023-01-04  43132400  \n2023-01-05  38916800  \n2023-01-06  40504400  \n2023-01-09  50423100  \n...              ...  \n2023-12-22  25213900  \n2023-12-26  24420000  \n2023-12-27  23364800  \n2023-12-28  24658700  \n2023-12-29  38869000  \n\n[250 rows x 6 columns]",
      "text/html": "<div>\n<style scoped>\n    .dataframe tbody tr th:only-of-type {\n        vertical-align: middle;\n    }\n\n    .dataframe tbody tr th {\n        vertical-align: top;\n    }\n\n    .dataframe thead th {\n        text-align: right;\n    }\n</style>\n<table border=\"1\" class=\"dataframe\">\n  <thead>\n    <tr style=\"text-align: right;\">\n      <th></th>\n      <th>Open</th>\n      <th>High</th>\n      <th>Low</th>\n      <th>Close</th>\n      <th>Adj Close</th>\n      <th>Volume</th>\n    </tr>\n    <tr>\n      <th>Date</th>\n      <th></th>\n      <th></th>\n      <th></th>\n      <th></th>\n      <th></th>\n      <th></th>\n    </tr>\n  </thead>\n  <tbody>\n    <tr>\n      <th>2023-01-03</th>\n      <td>148.509995</td>\n      <td>149.960007</td>\n      <td>140.960007</td>\n      <td>143.149994</td>\n      <td>143.079773</td>\n      <td>40127700</td>\n    </tr>\n    <tr>\n      <th>2023-01-04</th>\n      <td>145.669998</td>\n      <td>148.529999</td>\n      <td>142.410004</td>\n      <td>147.490005</td>\n      <td>147.417679</td>\n      <td>43132400</td>\n    </tr>\n    <tr>\n      <th>2023-01-05</th>\n      <td>144.910004</td>\n      <td>145.639999</td>\n      <td>141.479996</td>\n      <td>142.649994</td>\n      <td>142.580048</td>\n      <td>38916800</td>\n    </tr>\n    <tr>\n      <th>2023-01-06</th>\n      <td>144.740005</td>\n      <td>150.100006</td>\n      <td>140.339996</td>\n      <td>148.589996</td>\n      <td>148.517120</td>\n      <td>40504400</td>\n    </tr>\n    <tr>\n      <th>2023-01-09</th>\n      <td>152.839996</td>\n      <td>160.559998</td>\n      <td>151.410004</td>\n      <td>156.279999</td>\n      <td>156.203354</td>\n      <td>50423100</td>\n    </tr>\n    <tr>\n      <th>...</th>\n      <td>...</td>\n      <td>...</td>\n      <td>...</td>\n      <td>...</td>\n      <td>...</td>\n      <td>...</td>\n    </tr>\n    <tr>\n      <th>2023-12-22</th>\n      <td>491.950012</td>\n      <td>493.829987</td>\n      <td>484.670013</td>\n      <td>488.299988</td>\n      <td>488.277069</td>\n      <td>25213900</td>\n    </tr>\n    <tr>\n      <th>2023-12-26</th>\n      <td>489.679993</td>\n      <td>496.000000</td>\n      <td>489.600006</td>\n      <td>492.790009</td>\n      <td>492.766907</td>\n      <td>24420000</td>\n    </tr>\n    <tr>\n      <th>2023-12-27</th>\n      <td>495.109985</td>\n      <td>496.799988</td>\n      <td>490.850006</td>\n      <td>494.170013</td>\n      <td>494.146820</td>\n      <td>23364800</td>\n    </tr>\n    <tr>\n      <th>2023-12-28</th>\n      <td>496.429993</td>\n      <td>498.839996</td>\n      <td>494.119995</td>\n      <td>495.220001</td>\n      <td>495.196777</td>\n      <td>24658700</td>\n    </tr>\n    <tr>\n      <th>2023-12-29</th>\n      <td>498.130005</td>\n      <td>499.970001</td>\n      <td>487.510010</td>\n      <td>495.220001</td>\n      <td>495.196777</td>\n      <td>38869000</td>\n    </tr>\n  </tbody>\n</table>\n<p>250 rows × 6 columns</p>\n</div>"
     },
     "execution_count": 4,
     "metadata": {},
     "output_type": "execute_result"
    }
   ],
   "source": [
    "nvidia_stock_data"
   ],
   "metadata": {
    "collapsed": false,
    "ExecuteTime": {
     "end_time": "2024-03-09T06:07:01.125750Z",
     "start_time": "2024-03-09T06:07:01.109063Z"
    }
   },
   "id": "1135125c9ce2e9a6",
   "execution_count": 4
  },
  {
   "cell_type": "code",
   "outputs": [
    {
     "name": "stdout",
     "output_type": "stream",
     "text": [
      "(249,)\n",
      "(249,)\n",
      "(249,)\n"
     ]
    }
   ],
   "source": [
    "# Extract the closing prices\n",
    "nvidia_adj_close = nvidia_stock_data[\"Adj Close\"].pct_change().dropna()\n",
    "coca_adj_close = coca_stock_data[\"Adj Close\"].pct_change().dropna()\n",
    "market_adj_close = market_data[\"Adj Close\"].pct_change().dropna()\n",
    "\n",
    "# verify the integrity of the closing price data\n",
    "print(nvidia_adj_close.shape)\n",
    "print(coca_adj_close.shape)\n",
    "print(market_adj_close.shape)"
   ],
   "metadata": {
    "collapsed": false,
    "ExecuteTime": {
     "end_time": "2024-03-09T06:07:01.134164Z",
     "start_time": "2024-03-09T06:07:01.126756Z"
    }
   },
   "id": "6e40d88d2693d3f",
   "execution_count": 5
  },
  {
   "cell_type": "markdown",
   "source": [
    "## Step 2 Calculate the Beta Coefficient\n",
    "Recall that the beta coefficient\n",
    "$$\\beta=\\dfrac{Cov(R_e, R_m)}{Var(R_m)}$$\n",
    "where $R_e$ is the return on an individual stock and $R_m$ is the return of the overall market."
   ],
   "metadata": {
    "collapsed": false
   },
   "id": "9208d0bddffe027a"
  },
  {
   "cell_type": "code",
   "outputs": [],
   "source": [
    "import numpy as np"
   ],
   "metadata": {
    "collapsed": false,
    "ExecuteTime": {
     "end_time": "2024-03-09T06:07:01.138983Z",
     "start_time": "2024-03-09T06:07:01.135170Z"
    }
   },
   "id": "ae56cc94975f8de1",
   "execution_count": 6
  },
  {
   "cell_type": "code",
   "outputs": [],
   "source": [
    "covariance_nvidia = np.cov(nvidia_adj_close, market_adj_close)[0, 1]\n",
    "covariance_coca = np.cov(coca_adj_close, market_adj_close)[0, 1]\n",
    "variance_market = np.var(market_adj_close)"
   ],
   "metadata": {
    "collapsed": false,
    "ExecuteTime": {
     "end_time": "2024-03-09T06:07:01.145399Z",
     "start_time": "2024-03-09T06:07:01.140993Z"
    }
   },
   "id": "48d398a3bae06311",
   "execution_count": 7
  },
  {
   "cell_type": "code",
   "outputs": [],
   "source": [
    "beta_nvidia = covariance_nvidia / variance_market\n",
    "beta_coca = covariance_coca / variance_market"
   ],
   "metadata": {
    "collapsed": false,
    "ExecuteTime": {
     "end_time": "2024-03-09T06:07:01.150585Z",
     "start_time": "2024-03-09T06:07:01.146404Z"
    }
   },
   "id": "e5d7d47cfc224228",
   "execution_count": 8
  },
  {
   "cell_type": "code",
   "outputs": [
    {
     "name": "stdout",
     "output_type": "stream",
     "text": [
      "The beta of NVDA in relation to ^GSPC is: 2.0483\n",
      "The beta of KO in relation to ^GSPC is: 0.3820\n"
     ]
    }
   ],
   "source": [
    "print(f\"The beta of {nvidia_stock_symbol} in relation to {market_symbol} is: {beta_nvidia:.4f}\")\n",
    "print(f\"The beta of {coca_stock_symbol} in relation to {market_symbol} is: {beta_coca:.4f}\")"
   ],
   "metadata": {
    "collapsed": false,
    "ExecuteTime": {
     "end_time": "2024-03-09T06:07:01.155683Z",
     "start_time": "2024-03-09T06:07:01.151590Z"
    }
   },
   "id": "f486b27d3d358185",
   "execution_count": 9
  },
  {
   "cell_type": "markdown",
   "source": [
    "(TODO: 在这边讨论beta值对股票性能的体现)"
   ],
   "metadata": {
    "collapsed": false
   },
   "id": "b8974de55e15cab8"
  },
  {
   "cell_type": "markdown",
   "source": [
    "## Step 3 Estimates the CAPM model\n",
    "Recall that in the capital asset pricing model (CAPM):\n",
    "$$E(R_i)=R_f+\\beta_i(E(R_m)-R_f)$$\n",
    "where $E(R_i)$ is the capital asset expected return, $R_f$ is the risk-free rate of interest,  $\\beta_i$ is the sensitivity and $E(R_m)$ is the expected return of the market"
   ],
   "metadata": {
    "collapsed": false
   },
   "id": "c10236d77c84160f"
  },
  {
   "cell_type": "code",
   "outputs": [],
   "source": [
    "from scipy.stats import linregress"
   ],
   "metadata": {
    "collapsed": false,
    "ExecuteTime": {
     "end_time": "2024-03-09T06:07:01.579012Z",
     "start_time": "2024-03-09T06:07:01.158692Z"
    }
   },
   "id": "5ff32153b3a4d444",
   "execution_count": 10
  },
  {
   "cell_type": "code",
   "outputs": [
    {
     "name": "stderr",
     "output_type": "stream",
     "text": [
      "[*********************100%%**********************]  1 of 1 completed\n"
     ]
    },
    {
     "data": {
      "text/plain": "0.05045160009384155"
     },
     "execution_count": 11,
     "metadata": {},
     "output_type": "execute_result"
    }
   ],
   "source": [
    "# handle the average risk-free rate\n",
    "risk_free_rate_data = yf.download('^IRX', start=start_date, end=end_date)\n",
    "risk_free_rate = risk_free_rate_data['Adj Close'] / 100  # Convert percentage to decimal\n",
    "avg_risk_free_rate = np.mean(risk_free_rate)\n",
    "\n",
    "avg_risk_free_rate"
   ],
   "metadata": {
    "collapsed": false,
    "ExecuteTime": {
     "end_time": "2024-03-09T06:07:01.725763Z",
     "start_time": "2024-03-09T06:07:01.580023Z"
    }
   },
   "id": "7540219bd94e5bc6",
   "execution_count": 11
  },
  {
   "cell_type": "code",
   "outputs": [
    {
     "data": {
      "text/plain": "2.0400461243900447"
     },
     "execution_count": 12,
     "metadata": {},
     "output_type": "execute_result"
    }
   ],
   "source": [
    "# handle the estimated beta value\n",
    "est_beta_nvidia = linregress(market_adj_close, nvidia_adj_close)[0]\n",
    "est_beta_coca = linregress(market_adj_close, coca_adj_close)[0]\n",
    "\n",
    "est_beta_nvidia"
   ],
   "metadata": {
    "collapsed": false,
    "ExecuteTime": {
     "end_time": "2024-03-09T06:07:01.732906Z",
     "start_time": "2024-03-09T06:07:01.726774Z"
    }
   },
   "id": "d45d976bbfd03634",
   "execution_count": 12
  },
  {
   "cell_type": "code",
   "outputs": [],
   "source": [
    "# handle the CAPM output\n",
    "def calculate_CAPM(expected_market_return, risk_free_rate, beta):\n",
    "    return risk_free_rate + beta * (expected_market_return - risk_free_rate)\n",
    "\n",
    "\n",
    "expected_market_return = 0.2\n",
    "expected_nvidia_return = calculate_CAPM(expected_market_return, avg_risk_free_rate, est_beta_nvidia)\n",
    "expected_coca_return = calculate_CAPM(expected_market_return, avg_risk_free_rate, est_beta_coca)"
   ],
   "metadata": {
    "collapsed": false,
    "ExecuteTime": {
     "end_time": "2024-03-09T06:07:01.748744Z",
     "start_time": "2024-03-09T06:07:01.733917Z"
    }
   },
   "id": "7c56b6171a9171f9",
   "execution_count": 13
  },
  {
   "cell_type": "code",
   "outputs": [
    {
     "name": "stdout",
     "output_type": "stream",
     "text": [
      "NVIDIA: Calculated beta: 2.0483; Estimated beta: 2.0400; Expected return (CAPM): 0.3555\n",
      "CocaCola: Calculated beta: 0.3820; Estimated beta: 0.3805; Expected return (CAPM): 0.1074\n"
     ]
    }
   ],
   "source": [
    "print(\n",
    "    f'NVIDIA: Calculated beta: {beta_nvidia:.4f}; Estimated beta: {est_beta_nvidia:.4f}; Expected return (CAPM): {expected_nvidia_return:.4f}')\n",
    "print(\n",
    "    f'CocaCola: Calculated beta: {beta_coca:.4f}; Estimated beta: {est_beta_coca:.4f}; Expected return (CAPM): {expected_coca_return:.4f}')"
   ],
   "metadata": {
    "collapsed": false,
    "ExecuteTime": {
     "end_time": "2024-03-09T06:07:01.754686Z",
     "start_time": "2024-03-09T06:07:01.749755Z"
    }
   },
   "id": "231c781f9c410ef9",
   "execution_count": 14
  },
  {
   "cell_type": "markdown",
   "source": [
    "(TODO: 在这边讨论区别)"
   ],
   "metadata": {
    "collapsed": false
   },
   "id": "29fd829479b0747d"
  },
  {
   "cell_type": "markdown",
   "source": [
    "## Step 4 Minimum Variance Portfolio"
   ],
   "metadata": {
    "collapsed": false
   },
   "id": "2a1b19ac0ecf860b"
  },
  {
   "cell_type": "code",
   "outputs": [
    {
     "name": "stdout",
     "output_type": "stream",
     "text": [
      "Minimum Variance Portfolio Weights:\n",
      "[0.21248494 0.78751506]\n"
     ]
    }
   ],
   "source": [
    "# Calculate the covariance matrix between two stocks and invert the covariance matrix\n",
    "cov_matrix = np.cov(nvidia_adj_close, coca_adj_close)\n",
    "inv_cov_matrix = np.linalg.inv(cov_matrix)\n",
    "\n",
    "# define the expected return rate\n",
    "expected_return_rates = [0.35, 0.1]\n",
    "\n",
    "# Calculate the weights for the minimum variance portfolio\n",
    "weights_min_variance = inv_cov_matrix @ expected_return_rates / np.sum(inv_cov_matrix @ expected_return_rates)\n",
    "\n",
    "print(\"Minimum Variance Portfolio Weights:\")\n",
    "print(weights_min_variance)"
   ],
   "metadata": {
    "collapsed": false,
    "ExecuteTime": {
     "end_time": "2024-03-09T06:07:01.762126Z",
     "start_time": "2024-03-09T06:07:01.755694Z"
    }
   },
   "id": "9ae8796a16a8c2fa",
   "execution_count": 15
  },
  {
   "cell_type": "code",
   "outputs": [
    {
     "data": {
      "text/plain": "(249,)"
     },
     "execution_count": 16,
     "metadata": {},
     "output_type": "execute_result"
    }
   ],
   "source": [
    "# Build the portfolio\n",
    "w1, w2 = weights_min_variance\n",
    "portfolio_adj_close = w1 * nvidia_adj_close + w2 * coca_adj_close\n",
    "portfolio_adj_close.shape"
   ],
   "metadata": {
    "collapsed": false,
    "ExecuteTime": {
     "end_time": "2024-03-09T06:07:01.770200Z",
     "start_time": "2024-03-09T06:07:01.763132Z"
    }
   },
   "id": "35616fc67200815a",
   "execution_count": 16
  },
  {
   "cell_type": "code",
   "outputs": [
    {
     "name": "stdout",
     "output_type": "stream",
     "text": [
      "Minimum Variance Portfolio Expected Return (CAPM): 0.1601\n"
     ]
    }
   ],
   "source": [
    "# calculate the CAPM for the built portfolio\n",
    "est_beta_portfolio = linregress(market_adj_close, portfolio_adj_close)[0]\n",
    "expected_market_return = 0.2\n",
    "expected_portfolio_return = calculate_CAPM(expected_market_return, avg_risk_free_rate, est_beta_portfolio)\n",
    "\n",
    "print(f'Minimum Variance Portfolio Expected Return (CAPM): {expected_portfolio_return:.4f}')"
   ],
   "metadata": {
    "collapsed": false,
    "ExecuteTime": {
     "end_time": "2024-03-09T06:07:01.777386Z",
     "start_time": "2024-03-09T06:07:01.771208Z"
    }
   },
   "id": "473164e187b5f458",
   "execution_count": 17
  }
 ],
 "metadata": {
  "kernelspec": {
   "display_name": "Python 3",
   "language": "python",
   "name": "python3"
  },
  "language_info": {
   "codemirror_mode": {
    "name": "ipython",
    "version": 2
   },
   "file_extension": ".py",
   "mimetype": "text/x-python",
   "name": "python",
   "nbconvert_exporter": "python",
   "pygments_lexer": "ipython2",
   "version": "2.7.6"
  }
 },
 "nbformat": 4,
 "nbformat_minor": 5
}
