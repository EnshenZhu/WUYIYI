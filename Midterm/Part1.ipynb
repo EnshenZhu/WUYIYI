{
 "cells": [
  {
   "cell_type": "markdown",
   "source": [
    "## Step 1 Fetch Stock Prices\n",
    "We will use the NVIDIA and CocaCola stock historical data for the analysis, as well as getting the historical data of the NASDAQ market. The stock history period ranges from 2023-01-01 to 2024-01-01"
   ],
   "metadata": {
    "collapsed": false
   },
   "id": "c7374537b10c9a43"
  },
  {
   "cell_type": "code",
   "outputs": [],
   "source": [
    "import yfinance as yf"
   ],
   "metadata": {
    "collapsed": true,
    "ExecuteTime": {
     "end_time": "2024-03-08T06:33:59.138091Z",
     "start_time": "2024-03-08T06:33:58.537405Z"
    }
   },
   "id": "initial_id",
   "execution_count": 1
  },
  {
   "cell_type": "code",
   "outputs": [],
   "source": [
    "# Define the stock symbol and the time period\n",
    "nvidia_stock_symbol = \"NVDA\"  # NVIDIA Ltd.\n",
    "coca_stock_symbol = \"KO\"  # Coca Cola Ltd.\n",
    "market_symbol = \"^NDX\"  # NASDAQ 100\n",
    "\n",
    "start_date = \"2023-01-01\"\n",
    "end_date = \"2024-01-01\""
   ],
   "metadata": {
    "collapsed": false,
    "ExecuteTime": {
     "end_time": "2024-03-08T06:33:59.142903Z",
     "start_time": "2024-03-08T06:33:59.139100Z"
    }
   },
   "id": "b73d6499a179765b",
   "execution_count": 2
  },
  {
   "cell_type": "code",
   "outputs": [
    {
     "name": "stderr",
     "output_type": "stream",
     "text": [
      "[*********************100%%**********************]  1 of 1 completed\n",
      "[*********************100%%**********************]  1 of 1 completed\n",
      "[*********************100%%**********************]  1 of 1 completed\n"
     ]
    }
   ],
   "source": [
    "# Fetch historical stock data\n",
    "nvidia_stock_data = yf.download(nvidia_stock_symbol, start=start_date, end=end_date)\n",
    "coca_stock_data = yf.download(coca_stock_symbol, start=start_date, end=end_date)\n",
    "market_data = yf.download(market_symbol, start=start_date, end=end_date)"
   ],
   "metadata": {
    "collapsed": false,
    "ExecuteTime": {
     "end_time": "2024-03-08T06:34:01.225909Z",
     "start_time": "2024-03-08T06:33:59.144912Z"
    }
   },
   "id": "4511ce84b06ef9a9",
   "execution_count": 3
  },
  {
   "cell_type": "code",
   "outputs": [
    {
     "data": {
      "text/plain": "                  Open        High         Low       Close   Adj Close  \\\nDate                                                                     \n2023-01-03  148.509995  149.960007  140.960007  143.149994  143.079773   \n2023-01-04  145.669998  148.529999  142.410004  147.490005  147.417679   \n2023-01-05  144.910004  145.639999  141.479996  142.649994  142.580048   \n2023-01-06  144.740005  150.100006  140.339996  148.589996  148.517120   \n2023-01-09  152.839996  160.559998  151.410004  156.279999  156.203354   \n...                ...         ...         ...         ...         ...   \n2023-12-22  491.950012  493.829987  484.670013  488.299988  488.277069   \n2023-12-26  489.679993  496.000000  489.600006  492.790009  492.766907   \n2023-12-27  495.109985  496.799988  490.850006  494.170013  494.146820   \n2023-12-28  496.429993  498.839996  494.119995  495.220001  495.196777   \n2023-12-29  498.130005  499.970001  487.510010  495.220001  495.196777   \n\n              Volume  \nDate                  \n2023-01-03  40127700  \n2023-01-04  43132400  \n2023-01-05  38916800  \n2023-01-06  40504400  \n2023-01-09  50423100  \n...              ...  \n2023-12-22  25213900  \n2023-12-26  24420000  \n2023-12-27  23364800  \n2023-12-28  24658700  \n2023-12-29  38869000  \n\n[250 rows x 6 columns]",
      "text/html": "<div>\n<style scoped>\n    .dataframe tbody tr th:only-of-type {\n        vertical-align: middle;\n    }\n\n    .dataframe tbody tr th {\n        vertical-align: top;\n    }\n\n    .dataframe thead th {\n        text-align: right;\n    }\n</style>\n<table border=\"1\" class=\"dataframe\">\n  <thead>\n    <tr style=\"text-align: right;\">\n      <th></th>\n      <th>Open</th>\n      <th>High</th>\n      <th>Low</th>\n      <th>Close</th>\n      <th>Adj Close</th>\n      <th>Volume</th>\n    </tr>\n    <tr>\n      <th>Date</th>\n      <th></th>\n      <th></th>\n      <th></th>\n      <th></th>\n      <th></th>\n      <th></th>\n    </tr>\n  </thead>\n  <tbody>\n    <tr>\n      <th>2023-01-03</th>\n      <td>148.509995</td>\n      <td>149.960007</td>\n      <td>140.960007</td>\n      <td>143.149994</td>\n      <td>143.079773</td>\n      <td>40127700</td>\n    </tr>\n    <tr>\n      <th>2023-01-04</th>\n      <td>145.669998</td>\n      <td>148.529999</td>\n      <td>142.410004</td>\n      <td>147.490005</td>\n      <td>147.417679</td>\n      <td>43132400</td>\n    </tr>\n    <tr>\n      <th>2023-01-05</th>\n      <td>144.910004</td>\n      <td>145.639999</td>\n      <td>141.479996</td>\n      <td>142.649994</td>\n      <td>142.580048</td>\n      <td>38916800</td>\n    </tr>\n    <tr>\n      <th>2023-01-06</th>\n      <td>144.740005</td>\n      <td>150.100006</td>\n      <td>140.339996</td>\n      <td>148.589996</td>\n      <td>148.517120</td>\n      <td>40504400</td>\n    </tr>\n    <tr>\n      <th>2023-01-09</th>\n      <td>152.839996</td>\n      <td>160.559998</td>\n      <td>151.410004</td>\n      <td>156.279999</td>\n      <td>156.203354</td>\n      <td>50423100</td>\n    </tr>\n    <tr>\n      <th>...</th>\n      <td>...</td>\n      <td>...</td>\n      <td>...</td>\n      <td>...</td>\n      <td>...</td>\n      <td>...</td>\n    </tr>\n    <tr>\n      <th>2023-12-22</th>\n      <td>491.950012</td>\n      <td>493.829987</td>\n      <td>484.670013</td>\n      <td>488.299988</td>\n      <td>488.277069</td>\n      <td>25213900</td>\n    </tr>\n    <tr>\n      <th>2023-12-26</th>\n      <td>489.679993</td>\n      <td>496.000000</td>\n      <td>489.600006</td>\n      <td>492.790009</td>\n      <td>492.766907</td>\n      <td>24420000</td>\n    </tr>\n    <tr>\n      <th>2023-12-27</th>\n      <td>495.109985</td>\n      <td>496.799988</td>\n      <td>490.850006</td>\n      <td>494.170013</td>\n      <td>494.146820</td>\n      <td>23364800</td>\n    </tr>\n    <tr>\n      <th>2023-12-28</th>\n      <td>496.429993</td>\n      <td>498.839996</td>\n      <td>494.119995</td>\n      <td>495.220001</td>\n      <td>495.196777</td>\n      <td>24658700</td>\n    </tr>\n    <tr>\n      <th>2023-12-29</th>\n      <td>498.130005</td>\n      <td>499.970001</td>\n      <td>487.510010</td>\n      <td>495.220001</td>\n      <td>495.196777</td>\n      <td>38869000</td>\n    </tr>\n  </tbody>\n</table>\n<p>250 rows × 6 columns</p>\n</div>"
     },
     "execution_count": 4,
     "metadata": {},
     "output_type": "execute_result"
    }
   ],
   "source": [
    "nvidia_stock_data"
   ],
   "metadata": {
    "collapsed": false,
    "ExecuteTime": {
     "end_time": "2024-03-08T06:34:01.241340Z",
     "start_time": "2024-03-08T06:34:01.226918Z"
    }
   },
   "id": "1135125c9ce2e9a6",
   "execution_count": 4
  },
  {
   "cell_type": "code",
   "outputs": [
    {
     "name": "stdout",
     "output_type": "stream",
     "text": [
      "(249,)\n",
      "(249,)\n",
      "(249,)\n"
     ]
    }
   ],
   "source": [
    "# Extract the closing prices\n",
    "nvidia_adj_close = nvidia_stock_data[\"Adj Close\"].pct_change().dropna()\n",
    "coca_adj_close = coca_stock_data[\"Adj Close\"].pct_change().dropna()\n",
    "market_adj_close = market_data[\"Adj Close\"].pct_change().dropna()\n",
    "\n",
    "# verify the integrity of the closing price data\n",
    "print(nvidia_adj_close.shape)\n",
    "print(coca_adj_close.shape)\n",
    "print(market_adj_close.shape)"
   ],
   "metadata": {
    "collapsed": false,
    "ExecuteTime": {
     "end_time": "2024-03-08T06:34:01.252655Z",
     "start_time": "2024-03-08T06:34:01.243346Z"
    }
   },
   "id": "6e40d88d2693d3f",
   "execution_count": 5
  },
  {
   "cell_type": "markdown",
   "source": [
    "## Step 2 Calculate the Beta Coefficient\n",
    "Recall that the beta coefficient $\\beta=\\dfrac{Covariance(R_e,R_m)}{Variance(R_m)}$, where $R_e$ is the return on an individual stock and $R_m$ is the return of the overall market."
   ],
   "metadata": {
    "collapsed": false
   },
   "id": "9208d0bddffe027a"
  },
  {
   "cell_type": "code",
   "outputs": [],
   "source": [
    "import numpy as np"
   ],
   "metadata": {
    "collapsed": false,
    "ExecuteTime": {
     "end_time": "2024-03-08T06:34:01.256903Z",
     "start_time": "2024-03-08T06:34:01.253661Z"
    }
   },
   "id": "ae56cc94975f8de1",
   "execution_count": 6
  },
  {
   "cell_type": "code",
   "outputs": [],
   "source": [
    "covariance_nvidia = np.cov(nvidia_adj_close, market_adj_close)[0, 1]\n",
    "covariance_coca = np.cov(coca_adj_close, market_adj_close)[0, 1]\n",
    "variance_market = np.var(market_adj_close)"
   ],
   "metadata": {
    "collapsed": false,
    "ExecuteTime": {
     "end_time": "2024-03-08T06:34:01.265067Z",
     "start_time": "2024-03-08T06:34:01.257912Z"
    }
   },
   "id": "48d398a3bae06311",
   "execution_count": 7
  },
  {
   "cell_type": "code",
   "outputs": [],
   "source": [
    "beta_nvidia = covariance_nvidia / variance_market\n",
    "beta_coca = covariance_coca / variance_market"
   ],
   "metadata": {
    "collapsed": false,
    "ExecuteTime": {
     "end_time": "2024-03-08T06:34:01.270038Z",
     "start_time": "2024-03-08T06:34:01.266074Z"
    }
   },
   "id": "e5d7d47cfc224228",
   "execution_count": 8
  },
  {
   "cell_type": "code",
   "outputs": [
    {
     "name": "stdout",
     "output_type": "stream",
     "text": [
      "The beta of NVDA in relation to ^NDX is: 1.8392\n",
      "The beta of KO in relation to ^NDX is: 0.1676\n"
     ]
    }
   ],
   "source": [
    "print(f\"The beta of {nvidia_stock_symbol} in relation to {market_symbol} is: {beta_nvidia:.4f}\")\n",
    "print(f\"The beta of {coca_stock_symbol} in relation to {market_symbol} is: {beta_coca:.4f}\")"
   ],
   "metadata": {
    "collapsed": false,
    "ExecuteTime": {
     "end_time": "2024-03-08T06:34:01.279002Z",
     "start_time": "2024-03-08T06:34:01.271044Z"
    }
   },
   "id": "f486b27d3d358185",
   "execution_count": 9
  }
 ],
 "metadata": {
  "kernelspec": {
   "display_name": "Python 3",
   "language": "python",
   "name": "python3"
  },
  "language_info": {
   "codemirror_mode": {
    "name": "ipython",
    "version": 2
   },
   "file_extension": ".py",
   "mimetype": "text/x-python",
   "name": "python",
   "nbconvert_exporter": "python",
   "pygments_lexer": "ipython2",
   "version": "2.7.6"
  }
 },
 "nbformat": 4,
 "nbformat_minor": 5
}
